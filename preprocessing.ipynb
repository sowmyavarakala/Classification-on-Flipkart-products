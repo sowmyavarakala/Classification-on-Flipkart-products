{
  "nbformat": 4,
  "nbformat_minor": 0,
  "metadata": {
    "colab": {
      "name": "preprocessing.ipynb",
      "provenance": [],
      "collapsed_sections": [],
      "authorship_tag": "ABX9TyP4+O2w/CigwxXOqKrdwcsM",
      "include_colab_link": true
    },
    "kernelspec": {
      "name": "python3",
      "display_name": "Python 3"
    },
    "language_info": {
      "name": "python"
    }
  },
  "cells": [
    {
      "cell_type": "markdown",
      "metadata": {
        "id": "view-in-github",
        "colab_type": "text"
      },
      "source": [
        "<a href=\"https://colab.research.google.com/github/sowmyavarakala/Classification-on-Flipkart-products/blob/main/preprocessing.ipynb\" target=\"_parent\"><img src=\"https://colab.research.google.com/assets/colab-badge.svg\" alt=\"Open In Colab\"/></a>"
      ]
    },
    {
      "cell_type": "markdown",
      "metadata": {
        "id": "rCsHTOAPWEN3"
      },
      "source": [
        "# **Data cleaning and Visualization**"
      ]
    },
    {
      "cell_type": "code",
      "metadata": {
        "colab": {
          "base_uri": "https://localhost:8080/"
        },
        "id": "Qdet6qhQnhZY",
        "outputId": "eb30b962-1b36-4994-deb3-e8bf56122e44"
      },
      "source": [
        "# Mount the google drive to colab\n",
        "from google.colab import drive\n",
        "\n",
        "drive.mount('/content/gdrive')"
      ],
      "execution_count": 131,
      "outputs": [
        {
          "output_type": "stream",
          "text": [
            "Drive already mounted at /content/gdrive; to attempt to forcibly remount, call drive.mount(\"/content/gdrive\", force_remount=True).\n"
          ],
          "name": "stdout"
        }
      ]
    },
    {
      "cell_type": "code",
      "metadata": {
        "id": "z54wxBJJlgSk"
      },
      "source": [
        "# Importing all the necessary libraries\n",
        "import numpy as np\n",
        "import pandas as pd\n",
        "import seaborn as sns\n",
        "import matplotlib.pyplot as plt\n",
        "# reading the input dataset\n",
        "Flipkart_data=pd.read_csv(\"/content/gdrive/MyDrive/flipkart_com-ecommerce_sample.csv\")"
      ],
      "execution_count": 132,
      "outputs": []
    },
    {
      "cell_type": "code",
      "metadata": {
        "colab": {
          "base_uri": "https://localhost:8080/"
        },
        "id": "Csil9QimlmI5",
        "outputId": "2ec771b2-4bf0-4aee-e2d5-e8689a4232a5"
      },
      "source": [
        "# Pandas dataframe.info() function is used to get a concise summary of the dataframe.\n",
        "Flipkart_data.info()"
      ],
      "execution_count": 133,
      "outputs": [
        {
          "output_type": "stream",
          "text": [
            "<class 'pandas.core.frame.DataFrame'>\n",
            "RangeIndex: 20000 entries, 0 to 19999\n",
            "Data columns (total 15 columns):\n",
            " #   Column                   Non-Null Count  Dtype  \n",
            "---  ------                   --------------  -----  \n",
            " 0   uniq_id                  20000 non-null  object \n",
            " 1   crawl_timestamp          20000 non-null  object \n",
            " 2   product_url              20000 non-null  object \n",
            " 3   product_name             20000 non-null  object \n",
            " 4   product_category_tree    20000 non-null  object \n",
            " 5   pid                      20000 non-null  object \n",
            " 6   retail_price             19922 non-null  float64\n",
            " 7   discounted_price         19922 non-null  float64\n",
            " 8   image                    19997 non-null  object \n",
            " 9   is_FK_Advantage_product  20000 non-null  bool   \n",
            " 10  description              19998 non-null  object \n",
            " 11  product_rating           20000 non-null  object \n",
            " 12  overall_rating           20000 non-null  object \n",
            " 13  brand                    14136 non-null  object \n",
            " 14  product_specifications   19986 non-null  object \n",
            "dtypes: bool(1), float64(2), object(12)\n",
            "memory usage: 2.2+ MB\n"
          ],
          "name": "stdout"
        }
      ]
    },
    {
      "cell_type": "code",
      "metadata": {
        "colab": {
          "base_uri": "https://localhost:8080/",
          "height": 284
        },
        "id": "nizdyGspQwjx",
        "outputId": "f550abdf-bb50-48ba-993c-d65933fc6bdb"
      },
      "source": [
        "#Pandas describe() is used to view some basic statistical details like percentile, mean, std etc. of the data frame.\n",
        "Flipkart_data.describe()"
      ],
      "execution_count": 134,
      "outputs": [
        {
          "output_type": "execute_result",
          "data": {
            "text/html": [
              "<div>\n",
              "<style scoped>\n",
              "    .dataframe tbody tr th:only-of-type {\n",
              "        vertical-align: middle;\n",
              "    }\n",
              "\n",
              "    .dataframe tbody tr th {\n",
              "        vertical-align: top;\n",
              "    }\n",
              "\n",
              "    .dataframe thead th {\n",
              "        text-align: right;\n",
              "    }\n",
              "</style>\n",
              "<table border=\"1\" class=\"dataframe\">\n",
              "  <thead>\n",
              "    <tr style=\"text-align: right;\">\n",
              "      <th></th>\n",
              "      <th>retail_price</th>\n",
              "      <th>discounted_price</th>\n",
              "    </tr>\n",
              "  </thead>\n",
              "  <tbody>\n",
              "    <tr>\n",
              "      <th>count</th>\n",
              "      <td>19922.000000</td>\n",
              "      <td>19922.000000</td>\n",
              "    </tr>\n",
              "    <tr>\n",
              "      <th>mean</th>\n",
              "      <td>2979.206104</td>\n",
              "      <td>1973.401767</td>\n",
              "    </tr>\n",
              "    <tr>\n",
              "      <th>std</th>\n",
              "      <td>9009.639341</td>\n",
              "      <td>7333.586040</td>\n",
              "    </tr>\n",
              "    <tr>\n",
              "      <th>min</th>\n",
              "      <td>35.000000</td>\n",
              "      <td>35.000000</td>\n",
              "    </tr>\n",
              "    <tr>\n",
              "      <th>25%</th>\n",
              "      <td>666.000000</td>\n",
              "      <td>350.000000</td>\n",
              "    </tr>\n",
              "    <tr>\n",
              "      <th>50%</th>\n",
              "      <td>1040.000000</td>\n",
              "      <td>550.000000</td>\n",
              "    </tr>\n",
              "    <tr>\n",
              "      <th>75%</th>\n",
              "      <td>1999.000000</td>\n",
              "      <td>999.000000</td>\n",
              "    </tr>\n",
              "    <tr>\n",
              "      <th>max</th>\n",
              "      <td>571230.000000</td>\n",
              "      <td>571230.000000</td>\n",
              "    </tr>\n",
              "  </tbody>\n",
              "</table>\n",
              "</div>"
            ],
            "text/plain": [
              "        retail_price  discounted_price\n",
              "count   19922.000000      19922.000000\n",
              "mean     2979.206104       1973.401767\n",
              "std      9009.639341       7333.586040\n",
              "min        35.000000         35.000000\n",
              "25%       666.000000        350.000000\n",
              "50%      1040.000000        550.000000\n",
              "75%      1999.000000        999.000000\n",
              "max    571230.000000     571230.000000"
            ]
          },
          "metadata": {
            "tags": []
          },
          "execution_count": 134
        }
      ]
    },
    {
      "cell_type": "code",
      "metadata": {
        "colab": {
          "base_uri": "https://localhost:8080/",
          "height": 467
        },
        "id": "-XvZczCeop04",
        "outputId": "7350e369-7d67-4944-bb35-f95f121fd2bf"
      },
      "source": [
        "# head() retrieves top n rows of a dataframe(default n=5)\n",
        "Flipkart_data.head()"
      ],
      "execution_count": 135,
      "outputs": [
        {
          "output_type": "execute_result",
          "data": {
            "text/html": [
              "<div>\n",
              "<style scoped>\n",
              "    .dataframe tbody tr th:only-of-type {\n",
              "        vertical-align: middle;\n",
              "    }\n",
              "\n",
              "    .dataframe tbody tr th {\n",
              "        vertical-align: top;\n",
              "    }\n",
              "\n",
              "    .dataframe thead th {\n",
              "        text-align: right;\n",
              "    }\n",
              "</style>\n",
              "<table border=\"1\" class=\"dataframe\">\n",
              "  <thead>\n",
              "    <tr style=\"text-align: right;\">\n",
              "      <th></th>\n",
              "      <th>uniq_id</th>\n",
              "      <th>crawl_timestamp</th>\n",
              "      <th>product_url</th>\n",
              "      <th>product_name</th>\n",
              "      <th>product_category_tree</th>\n",
              "      <th>pid</th>\n",
              "      <th>retail_price</th>\n",
              "      <th>discounted_price</th>\n",
              "      <th>image</th>\n",
              "      <th>is_FK_Advantage_product</th>\n",
              "      <th>description</th>\n",
              "      <th>product_rating</th>\n",
              "      <th>overall_rating</th>\n",
              "      <th>brand</th>\n",
              "      <th>product_specifications</th>\n",
              "    </tr>\n",
              "  </thead>\n",
              "  <tbody>\n",
              "    <tr>\n",
              "      <th>0</th>\n",
              "      <td>c2d766ca982eca8304150849735ffef9</td>\n",
              "      <td>2016-03-25 22:59:23 +0000</td>\n",
              "      <td>http://www.flipkart.com/alisha-solid-women-s-c...</td>\n",
              "      <td>Alisha Solid Women's Cycling Shorts</td>\n",
              "      <td>[\"Clothing &gt;&gt; Women's Clothing &gt;&gt; Lingerie, Sl...</td>\n",
              "      <td>SRTEH2FF9KEDEFGF</td>\n",
              "      <td>999.0</td>\n",
              "      <td>379.0</td>\n",
              "      <td>[\"http://img5a.flixcart.com/image/short/u/4/a/...</td>\n",
              "      <td>False</td>\n",
              "      <td>Key Features of Alisha Solid Women's Cycling S...</td>\n",
              "      <td>No rating available</td>\n",
              "      <td>No rating available</td>\n",
              "      <td>Alisha</td>\n",
              "      <td>{\"product_specification\"=&gt;[{\"key\"=&gt;\"Number of ...</td>\n",
              "    </tr>\n",
              "    <tr>\n",
              "      <th>1</th>\n",
              "      <td>7f7036a6d550aaa89d34c77bd39a5e48</td>\n",
              "      <td>2016-03-25 22:59:23 +0000</td>\n",
              "      <td>http://www.flipkart.com/fabhomedecor-fabric-do...</td>\n",
              "      <td>FabHomeDecor Fabric Double Sofa Bed</td>\n",
              "      <td>[\"Furniture &gt;&gt; Living Room Furniture &gt;&gt; Sofa B...</td>\n",
              "      <td>SBEEH3QGU7MFYJFY</td>\n",
              "      <td>32157.0</td>\n",
              "      <td>22646.0</td>\n",
              "      <td>[\"http://img6a.flixcart.com/image/sofa-bed/j/f...</td>\n",
              "      <td>False</td>\n",
              "      <td>FabHomeDecor Fabric Double Sofa Bed (Finish Co...</td>\n",
              "      <td>No rating available</td>\n",
              "      <td>No rating available</td>\n",
              "      <td>FabHomeDecor</td>\n",
              "      <td>{\"product_specification\"=&gt;[{\"key\"=&gt;\"Installati...</td>\n",
              "    </tr>\n",
              "    <tr>\n",
              "      <th>2</th>\n",
              "      <td>f449ec65dcbc041b6ae5e6a32717d01b</td>\n",
              "      <td>2016-03-25 22:59:23 +0000</td>\n",
              "      <td>http://www.flipkart.com/aw-bellies/p/itmeh4grg...</td>\n",
              "      <td>AW Bellies</td>\n",
              "      <td>[\"Footwear &gt;&gt; Women's Footwear &gt;&gt; Ballerinas &gt;...</td>\n",
              "      <td>SHOEH4GRSUBJGZXE</td>\n",
              "      <td>999.0</td>\n",
              "      <td>499.0</td>\n",
              "      <td>[\"http://img5a.flixcart.com/image/shoe/7/z/z/r...</td>\n",
              "      <td>False</td>\n",
              "      <td>Key Features of AW Bellies Sandals Wedges Heel...</td>\n",
              "      <td>No rating available</td>\n",
              "      <td>No rating available</td>\n",
              "      <td>AW</td>\n",
              "      <td>{\"product_specification\"=&gt;[{\"key\"=&gt;\"Ideal For\"...</td>\n",
              "    </tr>\n",
              "    <tr>\n",
              "      <th>3</th>\n",
              "      <td>0973b37acd0c664e3de26e97e5571454</td>\n",
              "      <td>2016-03-25 22:59:23 +0000</td>\n",
              "      <td>http://www.flipkart.com/alisha-solid-women-s-c...</td>\n",
              "      <td>Alisha Solid Women's Cycling Shorts</td>\n",
              "      <td>[\"Clothing &gt;&gt; Women's Clothing &gt;&gt; Lingerie, Sl...</td>\n",
              "      <td>SRTEH2F6HUZMQ6SJ</td>\n",
              "      <td>699.0</td>\n",
              "      <td>267.0</td>\n",
              "      <td>[\"http://img5a.flixcart.com/image/short/6/2/h/...</td>\n",
              "      <td>False</td>\n",
              "      <td>Key Features of Alisha Solid Women's Cycling S...</td>\n",
              "      <td>No rating available</td>\n",
              "      <td>No rating available</td>\n",
              "      <td>Alisha</td>\n",
              "      <td>{\"product_specification\"=&gt;[{\"key\"=&gt;\"Number of ...</td>\n",
              "    </tr>\n",
              "    <tr>\n",
              "      <th>4</th>\n",
              "      <td>bc940ea42ee6bef5ac7cea3fb5cfbee7</td>\n",
              "      <td>2016-03-25 22:59:23 +0000</td>\n",
              "      <td>http://www.flipkart.com/sicons-all-purpose-arn...</td>\n",
              "      <td>Sicons All Purpose Arnica Dog Shampoo</td>\n",
              "      <td>[\"Pet Supplies &gt;&gt; Grooming &gt;&gt; Skin &amp; Coat Care...</td>\n",
              "      <td>PSOEH3ZYDMSYARJ5</td>\n",
              "      <td>220.0</td>\n",
              "      <td>210.0</td>\n",
              "      <td>[\"http://img5a.flixcart.com/image/pet-shampoo/...</td>\n",
              "      <td>False</td>\n",
              "      <td>Specifications of Sicons All Purpose Arnica Do...</td>\n",
              "      <td>No rating available</td>\n",
              "      <td>No rating available</td>\n",
              "      <td>Sicons</td>\n",
              "      <td>{\"product_specification\"=&gt;[{\"key\"=&gt;\"Pet Type\",...</td>\n",
              "    </tr>\n",
              "  </tbody>\n",
              "</table>\n",
              "</div>"
            ],
            "text/plain": [
              "                            uniq_id  ...                             product_specifications\n",
              "0  c2d766ca982eca8304150849735ffef9  ...  {\"product_specification\"=>[{\"key\"=>\"Number of ...\n",
              "1  7f7036a6d550aaa89d34c77bd39a5e48  ...  {\"product_specification\"=>[{\"key\"=>\"Installati...\n",
              "2  f449ec65dcbc041b6ae5e6a32717d01b  ...  {\"product_specification\"=>[{\"key\"=>\"Ideal For\"...\n",
              "3  0973b37acd0c664e3de26e97e5571454  ...  {\"product_specification\"=>[{\"key\"=>\"Number of ...\n",
              "4  bc940ea42ee6bef5ac7cea3fb5cfbee7  ...  {\"product_specification\"=>[{\"key\"=>\"Pet Type\",...\n",
              "\n",
              "[5 rows x 15 columns]"
            ]
          },
          "metadata": {
            "tags": []
          },
          "execution_count": 135
        }
      ]
    },
    {
      "cell_type": "code",
      "metadata": {
        "colab": {
          "base_uri": "https://localhost:8080/"
        },
        "id": "tBGGPPCCo_nt",
        "outputId": "c126afbf-1c19-4263-85cd-37b9441cc0ec"
      },
      "source": [
        "# listing out column names of the dataframe.\n",
        "Flipkart_data.columns"
      ],
      "execution_count": 136,
      "outputs": [
        {
          "output_type": "execute_result",
          "data": {
            "text/plain": [
              "Index(['uniq_id', 'crawl_timestamp', 'product_url', 'product_name',\n",
              "       'product_category_tree', 'pid', 'retail_price', 'discounted_price',\n",
              "       'image', 'is_FK_Advantage_product', 'description', 'product_rating',\n",
              "       'overall_rating', 'brand', 'product_specifications'],\n",
              "      dtype='object')"
            ]
          },
          "metadata": {
            "tags": []
          },
          "execution_count": 136
        }
      ]
    },
    {
      "cell_type": "code",
      "metadata": {
        "colab": {
          "base_uri": "https://localhost:8080/"
        },
        "id": "kSPWO4tGouKA",
        "outputId": "7638cd76-d13e-4f4c-d553-7151af5d7583"
      },
      "source": [
        "# shape returns no of rows and columns of a dataframe.\n",
        "Flipkart_data.shape"
      ],
      "execution_count": 137,
      "outputs": [
        {
          "output_type": "execute_result",
          "data": {
            "text/plain": [
              "(20000, 15)"
            ]
          },
          "metadata": {
            "tags": []
          },
          "execution_count": 137
        }
      ]
    },
    {
      "cell_type": "code",
      "metadata": {
        "colab": {
          "base_uri": "https://localhost:8080/"
        },
        "id": "QOtVjwleo7Y4",
        "outputId": "12726630-5d75-463c-a733-6349a243d8e4"
      },
      "source": [
        "# isnull().sum() returns the number of missing values in the data set\n",
        "Flipkart_data.isnull().sum()"
      ],
      "execution_count": 138,
      "outputs": [
        {
          "output_type": "execute_result",
          "data": {
            "text/plain": [
              "uniq_id                       0\n",
              "crawl_timestamp               0\n",
              "product_url                   0\n",
              "product_name                  0\n",
              "product_category_tree         0\n",
              "pid                           0\n",
              "retail_price                 78\n",
              "discounted_price             78\n",
              "image                         3\n",
              "is_FK_Advantage_product       0\n",
              "description                   2\n",
              "product_rating                0\n",
              "overall_rating                0\n",
              "brand                      5864\n",
              "product_specifications       14\n",
              "dtype: int64"
            ]
          },
          "metadata": {
            "tags": []
          },
          "execution_count": 138
        }
      ]
    },
    {
      "cell_type": "markdown",
      "metadata": {
        "id": "-E_uTD-DqKeN"
      },
      "source": [
        "Column brand has more null values."
      ]
    },
    {
      "cell_type": "code",
      "metadata": {
        "colab": {
          "base_uri": "https://localhost:8080/",
          "height": 621
        },
        "id": "uIS6ABXvbrmQ",
        "outputId": "cb4a0b5f-8c71-48bf-a66b-05fb28d4b799"
      },
      "source": [
        "plt.figure(figsize =(10,8))\n",
        "sns.heatmap(Flipkart_data.isnull(),yticklabels=False,cmap='plasma',cbar=True)"
      ],
      "execution_count": 139,
      "outputs": [
        {
          "output_type": "execute_result",
          "data": {
            "text/plain": [
              "<matplotlib.axes._subplots.AxesSubplot at 0x7fca467d9f50>"
            ]
          },
          "metadata": {
            "tags": []
          },
          "execution_count": 139
        },
        {
          "output_type": "display_data",
          "data": {
            "image/png": "[encoded data removed]",
            "text/plain": [
              "<Figure size 720x576 with 2 Axes>"
            ]
          },
          "metadata": {
            "tags": [],
            "needs_background": "light"
          }
        }
      ]
    },
    {
      "cell_type": "markdown",
      "metadata": {
        "id": "BY6_O3AnqU7s"
      },
      "source": [
        "              \n",
        "  Visualization of null values through a heatmap"
      ]
    },
    {
      "cell_type": "code",
      "metadata": {
        "colab": {
          "base_uri": "https://localhost:8080/"
        },
        "id": "wAw301IZLiGH",
        "outputId": "ff0b4bb1-1d57-4d87-ce92-8ac17c27bd44"
      },
      "source": [
        "# this cell returns first row of the dataset.\n",
        "Flipkart_data.iloc[0]"
      ],
      "execution_count": 140,
      "outputs": [
        {
          "output_type": "execute_result",
          "data": {
            "text/plain": [
              "uniq_id                                     c2d766ca982eca8304150849735ffef9\n",
              "crawl_timestamp                                    2016-03-25 22:59:23 +0000\n",
              "product_url                http://www.flipkart.com/alisha-solid-women-s-c...\n",
              "product_name                             Alisha Solid Women's Cycling Shorts\n",
              "product_category_tree      [\"Clothing >> Women's Clothing >> Lingerie, Sl...\n",
              "pid                                                         SRTEH2FF9KEDEFGF\n",
              "retail_price                                                             999\n",
              "discounted_price                                                         379\n",
              "image                      [\"http://img5a.flixcart.com/image/short/u/4/a/...\n",
              "is_FK_Advantage_product                                                False\n",
              "description                Key Features of Alisha Solid Women's Cycling S...\n",
              "product_rating                                           No rating available\n",
              "overall_rating                                           No rating available\n",
              "brand                                                                 Alisha\n",
              "product_specifications     {\"product_specification\"=>[{\"key\"=>\"Number of ...\n",
              "Name: 0, dtype: object"
            ]
          },
          "metadata": {
            "tags": []
          },
          "execution_count": 140
        }
      ]
    },
    {
      "cell_type": "code",
      "metadata": {
        "colab": {
          "base_uri": "https://localhost:8080/",
          "height": 35
        },
        "id": "ci0aM84ALiQp",
        "outputId": "5ab40915-499a-4794-df6f-a086d76ed5c6"
      },
      "source": [
        "# visualising the contents of column \"product_category_tree \"\n",
        "Flipkart_data['product_category_tree'][0]"
      ],
      "execution_count": 141,
      "outputs": [
        {
          "output_type": "execute_result",
          "data": {
            "application/vnd.google.colaboratory.intrinsic+json": {
              "type": "string"
            },
            "text/plain": [
              "'[\"Clothing >> Women\\'s Clothing >> Lingerie, Sleep & Swimwear >> Shorts >> Alisha Shorts >> Alisha Solid Women\\'s Cycling Shorts\"]'"
            ]
          },
          "metadata": {
            "tags": []
          },
          "execution_count": 141
        }
      ]
    },
    {
      "cell_type": "code",
      "metadata": {
        "colab": {
          "base_uri": "https://localhost:8080/"
        },
        "id": "-78fHVQTLT4c",
        "outputId": "4b613330-7be8-4d11-ca58-bcd3aafa653d"
      },
      "source": [
        "# returns all the values of the column \"product_category_tree\"\n",
        "Flipkart_data['product_category_tree']"
      ],
      "execution_count": 142,
      "outputs": [
        {
          "output_type": "execute_result",
          "data": {
            "text/plain": [
              "0        [\"Clothing >> Women's Clothing >> Lingerie, Sl...\n",
              "1        [\"Furniture >> Living Room Furniture >> Sofa B...\n",
              "2        [\"Footwear >> Women's Footwear >> Ballerinas >...\n",
              "3        [\"Clothing >> Women's Clothing >> Lingerie, Sl...\n",
              "4        [\"Pet Supplies >> Grooming >> Skin & Coat Care...\n",
              "                               ...                        \n",
              "19995    [\"Baby Care >> Baby & Kids Gifts >> Stickers >...\n",
              "19996    [\"Baby Care >> Baby & Kids Gifts >> Stickers >...\n",
              "19997    [\"Baby Care >> Baby & Kids Gifts >> Stickers >...\n",
              "19998    [\"Baby Care >> Baby & Kids Gifts >> Stickers >...\n",
              "19999    [\"Baby Care >> Baby & Kids Gifts >> Stickers >...\n",
              "Name: product_category_tree, Length: 20000, dtype: object"
            ]
          },
          "metadata": {
            "tags": []
          },
          "execution_count": 142
        }
      ]
    },
    {
      "cell_type": "code",
      "metadata": {
        "colab": {
          "base_uri": "https://localhost:8080/"
        },
        "id": "2vUuUunqpCoE",
        "outputId": "9d943c67-0de5-4683-b8d3-b2d436ba89d2"
      },
      "source": [
        "#making this column into a datetime type for visualizing.\n",
        "Flipkart_data['crawl_timestamp']=pd.to_datetime(Flipkart_data['crawl_timestamp'])\n",
        "Flipkart_data['crawl_timestamp']"
      ],
      "execution_count": 143,
      "outputs": [
        {
          "output_type": "execute_result",
          "data": {
            "text/plain": [
              "0       2016-03-25 22:59:23+00:00\n",
              "1       2016-03-25 22:59:23+00:00\n",
              "2       2016-03-25 22:59:23+00:00\n",
              "3       2016-03-25 22:59:23+00:00\n",
              "4       2016-03-25 22:59:23+00:00\n",
              "                   ...           \n",
              "19995   2015-12-01 10:15:43+00:00\n",
              "19996   2015-12-01 10:15:43+00:00\n",
              "19997   2015-12-01 10:15:43+00:00\n",
              "19998   2015-12-01 10:15:43+00:00\n",
              "19999   2015-12-01 10:15:43+00:00\n",
              "Name: crawl_timestamp, Length: 20000, dtype: datetime64[ns, UTC]"
            ]
          },
          "metadata": {
            "tags": []
          },
          "execution_count": 143
        }
      ]
    },
    {
      "cell_type": "code",
      "metadata": {
        "id": "kXUSrfo_Lh47"
      },
      "source": [
        "#Creating a new column \"crawl_year\".\n",
        "#Values for \"crawl_year\" comes from \"crawl_timestamp\" using lambda function\n",
        "#this was done to visualize the sales in various years\n",
        "\n",
        "Flipkart_data['crawl_year']=Flipkart_data['crawl_timestamp'].apply(lambda x : x.year)"
      ],
      "execution_count": 144,
      "outputs": []
    },
    {
      "cell_type": "code",
      "metadata": {
        "colab": {
          "base_uri": "https://localhost:8080/",
          "height": 313
        },
        "id": "hau7SEkLc-sF",
        "outputId": "451bbc12-6d34-4c48-a2bb-74513c462a8c"
      },
      "source": [
        "# ploting a bar graph to visualize the sales in years\n",
        "Flipkart_data.groupby(by='crawl_year',axis=0).count().plot(kind='bar',legend=False)\n",
        "plt.ylabel('Sales')"
      ],
      "execution_count": 145,
      "outputs": [
        {
          "output_type": "execute_result",
          "data": {
            "text/plain": [
              "Text(0, 0.5, 'Sales')"
            ]
          },
          "metadata": {
            "tags": []
          },
          "execution_count": 145
        },
        {
          "output_type": "display_data",
          "data": {
            "image/png": "[encoded data removed]",
            "text/plain": [
              "<Figure size 432x288 with 1 Axes>"
            ]
          },
          "metadata": {
            "tags": [],
            "needs_background": "light"
          }
        }
      ]
    },
    {
      "cell_type": "markdown",
      "metadata": {
        "id": "HX174zD5xdbs"
      },
      "source": [
        "Both the years have good number of sales"
      ]
    },
    {
      "cell_type": "code",
      "metadata": {
        "id": "2hNzVtM9cIdJ"
      },
      "source": [
        "#Creating a new column \"Month\".\n",
        "#Values for \"Month\" comes from \"crawl_timestamp\" using lambda function\n",
        "#this was done to visualize the sales in all months\n",
        "Flipkart_data['Month']=Flipkart_data['crawl_timestamp'].apply(lambda x : x.month)\n"
      ],
      "execution_count": 146,
      "outputs": []
    },
    {
      "cell_type": "code",
      "metadata": {
        "colab": {
          "base_uri": "https://localhost:8080/",
          "height": 316
        },
        "id": "rvGQYSR5cIaP",
        "outputId": "88da9ce2-5b5a-4d37-95b5-590800a74950"
      },
      "source": [
        "# ploting a bar graph to visualize the sales in terms of Month\n",
        "plt.figure(figsize=(150,10))\n",
        "temp=Flipkart_data.groupby(by='Month',axis=0).count().plot(kind='bar',legend=False)\n",
        "plt.ylabel('Sales')"
      ],
      "execution_count": 147,
      "outputs": [
        {
          "output_type": "execute_result",
          "data": {
            "text/plain": [
              "Text(0, 0.5, 'Sales')"
            ]
          },
          "metadata": {
            "tags": []
          },
          "execution_count": 147
        },
        {
          "output_type": "display_data",
          "data": {
            "text/plain": [
              "<Figure size 10800x720 with 0 Axes>"
            ]
          },
          "metadata": {
            "tags": []
          }
        },
        {
          "output_type": "display_data",
          "data": {
            "image/png": "[encoded data removed]",
            "text/plain": [
              "<Figure size 432x288 with 1 Axes>"
            ]
          },
          "metadata": {
            "tags": [],
            "needs_background": "light"
          }
        }
      ]
    },
    {
      "cell_type": "markdown",
      "metadata": {
        "id": "3F1PQy7EyCyP"
      },
      "source": [
        "12th Month of the year has most number of sales."
      ]
    },
    {
      "cell_type": "code",
      "metadata": {
        "colab": {
          "base_uri": "https://localhost:8080/",
          "height": 467
        },
        "id": "7zl2uvHHpNaA",
        "outputId": "bc6a6592-1547-47ae-e2da-47d48f44c679"
      },
      "source": [
        "Flipkart_data.head()"
      ],
      "execution_count": 148,
      "outputs": [
        {
          "output_type": "execute_result",
          "data": {
            "text/html": [
              "<div>\n",
              "<style scoped>\n",
              "    .dataframe tbody tr th:only-of-type {\n",
              "        vertical-align: middle;\n",
              "    }\n",
              "\n",
              "    .dataframe tbody tr th {\n",
              "        vertical-align: top;\n",
              "    }\n",
              "\n",
              "    .dataframe thead th {\n",
              "        text-align: right;\n",
              "    }\n",
              "</style>\n",
              "<table border=\"1\" class=\"dataframe\">\n",
              "  <thead>\n",
              "    <tr style=\"text-align: right;\">\n",
              "      <th></th>\n",
              "      <th>uniq_id</th>\n",
              "      <th>crawl_timestamp</th>\n",
              "      <th>product_url</th>\n",
              "      <th>product_name</th>\n",
              "      <th>product_category_tree</th>\n",
              "      <th>pid</th>\n",
              "      <th>retail_price</th>\n",
              "      <th>discounted_price</th>\n",
              "      <th>image</th>\n",
              "      <th>is_FK_Advantage_product</th>\n",
              "      <th>description</th>\n",
              "      <th>product_rating</th>\n",
              "      <th>overall_rating</th>\n",
              "      <th>brand</th>\n",
              "      <th>product_specifications</th>\n",
              "      <th>crawl_year</th>\n",
              "      <th>Month</th>\n",
              "    </tr>\n",
              "  </thead>\n",
              "  <tbody>\n",
              "    <tr>\n",
              "      <th>0</th>\n",
              "      <td>c2d766ca982eca8304150849735ffef9</td>\n",
              "      <td>2016-03-25 22:59:23+00:00</td>\n",
              "      <td>http://www.flipkart.com/alisha-solid-women-s-c...</td>\n",
              "      <td>Alisha Solid Women's Cycling Shorts</td>\n",
              "      <td>[\"Clothing &gt;&gt; Women's Clothing &gt;&gt; Lingerie, Sl...</td>\n",
              "      <td>SRTEH2FF9KEDEFGF</td>\n",
              "      <td>999.0</td>\n",
              "      <td>379.0</td>\n",
              "      <td>[\"http://img5a.flixcart.com/image/short/u/4/a/...</td>\n",
              "      <td>False</td>\n",
              "      <td>Key Features of Alisha Solid Women's Cycling S...</td>\n",
              "      <td>No rating available</td>\n",
              "      <td>No rating available</td>\n",
              "      <td>Alisha</td>\n",
              "      <td>{\"product_specification\"=&gt;[{\"key\"=&gt;\"Number of ...</td>\n",
              "      <td>2016</td>\n",
              "      <td>3</td>\n",
              "    </tr>\n",
              "    <tr>\n",
              "      <th>1</th>\n",
              "      <td>7f7036a6d550aaa89d34c77bd39a5e48</td>\n",
              "      <td>2016-03-25 22:59:23+00:00</td>\n",
              "      <td>http://www.flipkart.com/fabhomedecor-fabric-do...</td>\n",
              "      <td>FabHomeDecor Fabric Double Sofa Bed</td>\n",
              "      <td>[\"Furniture &gt;&gt; Living Room Furniture &gt;&gt; Sofa B...</td>\n",
              "      <td>SBEEH3QGU7MFYJFY</td>\n",
              "      <td>32157.0</td>\n",
              "      <td>22646.0</td>\n",
              "      <td>[\"http://img6a.flixcart.com/image/sofa-bed/j/f...</td>\n",
              "      <td>False</td>\n",
              "      <td>FabHomeDecor Fabric Double Sofa Bed (Finish Co...</td>\n",
              "      <td>No rating available</td>\n",
              "      <td>No rating available</td>\n",
              "      <td>FabHomeDecor</td>\n",
              "      <td>{\"product_specification\"=&gt;[{\"key\"=&gt;\"Installati...</td>\n",
              "      <td>2016</td>\n",
              "      <td>3</td>\n",
              "    </tr>\n",
              "    <tr>\n",
              "      <th>2</th>\n",
              "      <td>f449ec65dcbc041b6ae5e6a32717d01b</td>\n",
              "      <td>2016-03-25 22:59:23+00:00</td>\n",
              "      <td>http://www.flipkart.com/aw-bellies/p/itmeh4grg...</td>\n",
              "      <td>AW Bellies</td>\n",
              "      <td>[\"Footwear &gt;&gt; Women's Footwear &gt;&gt; Ballerinas &gt;...</td>\n",
              "      <td>SHOEH4GRSUBJGZXE</td>\n",
              "      <td>999.0</td>\n",
              "      <td>499.0</td>\n",
              "      <td>[\"http://img5a.flixcart.com/image/shoe/7/z/z/r...</td>\n",
              "      <td>False</td>\n",
              "      <td>Key Features of AW Bellies Sandals Wedges Heel...</td>\n",
              "      <td>No rating available</td>\n",
              "      <td>No rating available</td>\n",
              "      <td>AW</td>\n",
              "      <td>{\"product_specification\"=&gt;[{\"key\"=&gt;\"Ideal For\"...</td>\n",
              "      <td>2016</td>\n",
              "      <td>3</td>\n",
              "    </tr>\n",
              "    <tr>\n",
              "      <th>3</th>\n",
              "      <td>0973b37acd0c664e3de26e97e5571454</td>\n",
              "      <td>2016-03-25 22:59:23+00:00</td>\n",
              "      <td>http://www.flipkart.com/alisha-solid-women-s-c...</td>\n",
              "      <td>Alisha Solid Women's Cycling Shorts</td>\n",
              "      <td>[\"Clothing &gt;&gt; Women's Clothing &gt;&gt; Lingerie, Sl...</td>\n",
              "      <td>SRTEH2F6HUZMQ6SJ</td>\n",
              "      <td>699.0</td>\n",
              "      <td>267.0</td>\n",
              "      <td>[\"http://img5a.flixcart.com/image/short/6/2/h/...</td>\n",
              "      <td>False</td>\n",
              "      <td>Key Features of Alisha Solid Women's Cycling S...</td>\n",
              "      <td>No rating available</td>\n",
              "      <td>No rating available</td>\n",
              "      <td>Alisha</td>\n",
              "      <td>{\"product_specification\"=&gt;[{\"key\"=&gt;\"Number of ...</td>\n",
              "      <td>2016</td>\n",
              "      <td>3</td>\n",
              "    </tr>\n",
              "    <tr>\n",
              "      <th>4</th>\n",
              "      <td>bc940ea42ee6bef5ac7cea3fb5cfbee7</td>\n",
              "      <td>2016-03-25 22:59:23+00:00</td>\n",
              "      <td>http://www.flipkart.com/sicons-all-purpose-arn...</td>\n",
              "      <td>Sicons All Purpose Arnica Dog Shampoo</td>\n",
              "      <td>[\"Pet Supplies &gt;&gt; Grooming &gt;&gt; Skin &amp; Coat Care...</td>\n",
              "      <td>PSOEH3ZYDMSYARJ5</td>\n",
              "      <td>220.0</td>\n",
              "      <td>210.0</td>\n",
              "      <td>[\"http://img5a.flixcart.com/image/pet-shampoo/...</td>\n",
              "      <td>False</td>\n",
              "      <td>Specifications of Sicons All Purpose Arnica Do...</td>\n",
              "      <td>No rating available</td>\n",
              "      <td>No rating available</td>\n",
              "      <td>Sicons</td>\n",
              "      <td>{\"product_specification\"=&gt;[{\"key\"=&gt;\"Pet Type\",...</td>\n",
              "      <td>2016</td>\n",
              "      <td>3</td>\n",
              "    </tr>\n",
              "  </tbody>\n",
              "</table>\n",
              "</div>"
            ],
            "text/plain": [
              "                            uniq_id  ... Month\n",
              "0  c2d766ca982eca8304150849735ffef9  ...     3\n",
              "1  7f7036a6d550aaa89d34c77bd39a5e48  ...     3\n",
              "2  f449ec65dcbc041b6ae5e6a32717d01b  ...     3\n",
              "3  0973b37acd0c664e3de26e97e5571454  ...     3\n",
              "4  bc940ea42ee6bef5ac7cea3fb5cfbee7  ...     3\n",
              "\n",
              "[5 rows x 17 columns]"
            ]
          },
          "metadata": {
            "tags": []
          },
          "execution_count": 148
        }
      ]
    },
    {
      "cell_type": "code",
      "metadata": {
        "id": "eCLzUFrSs5NF"
      },
      "source": [
        "# spliting the \"product_category_tree\" into categories using lambda function seperated by >>\n",
        "# this is done to find the main category which has to used for prediction.\n",
        "Flipkart_data['primary_category']=Flipkart_data['product_category_tree'].apply(lambda x :x.split('>>')[0][2:len(x.split('>>')[0])-1])"
      ],
      "execution_count": 149,
      "outputs": []
    },
    {
      "cell_type": "code",
      "metadata": {
        "colab": {
          "base_uri": "https://localhost:8080/",
          "height": 467
        },
        "id": "tYCl1VWts-C0",
        "outputId": "8f9ccf51-0ef2-4d0d-e521-78584497d29c"
      },
      "source": [
        "Flipkart_data.head()"
      ],
      "execution_count": 150,
      "outputs": [
        {
          "output_type": "execute_result",
          "data": {
            "text/html": [
              "<div>\n",
              "<style scoped>\n",
              "    .dataframe tbody tr th:only-of-type {\n",
              "        vertical-align: middle;\n",
              "    }\n",
              "\n",
              "    .dataframe tbody tr th {\n",
              "        vertical-align: top;\n",
              "    }\n",
              "\n",
              "    .dataframe thead th {\n",
              "        text-align: right;\n",
              "    }\n",
              "</style>\n",
              "<table border=\"1\" class=\"dataframe\">\n",
              "  <thead>\n",
              "    <tr style=\"text-align: right;\">\n",
              "      <th></th>\n",
              "      <th>uniq_id</th>\n",
              "      <th>crawl_timestamp</th>\n",
              "      <th>product_url</th>\n",
              "      <th>product_name</th>\n",
              "      <th>product_category_tree</th>\n",
              "      <th>pid</th>\n",
              "      <th>retail_price</th>\n",
              "      <th>discounted_price</th>\n",
              "      <th>image</th>\n",
              "      <th>is_FK_Advantage_product</th>\n",
              "      <th>description</th>\n",
              "      <th>product_rating</th>\n",
              "      <th>overall_rating</th>\n",
              "      <th>brand</th>\n",
              "      <th>product_specifications</th>\n",
              "      <th>crawl_year</th>\n",
              "      <th>Month</th>\n",
              "      <th>primary_category</th>\n",
              "    </tr>\n",
              "  </thead>\n",
              "  <tbody>\n",
              "    <tr>\n",
              "      <th>0</th>\n",
              "      <td>c2d766ca982eca8304150849735ffef9</td>\n",
              "      <td>2016-03-25 22:59:23+00:00</td>\n",
              "      <td>http://www.flipkart.com/alisha-solid-women-s-c...</td>\n",
              "      <td>Alisha Solid Women's Cycling Shorts</td>\n",
              "      <td>[\"Clothing &gt;&gt; Women's Clothing &gt;&gt; Lingerie, Sl...</td>\n",
              "      <td>SRTEH2FF9KEDEFGF</td>\n",
              "      <td>999.0</td>\n",
              "      <td>379.0</td>\n",
              "      <td>[\"http://img5a.flixcart.com/image/short/u/4/a/...</td>\n",
              "      <td>False</td>\n",
              "      <td>Key Features of Alisha Solid Women's Cycling S...</td>\n",
              "      <td>No rating available</td>\n",
              "      <td>No rating available</td>\n",
              "      <td>Alisha</td>\n",
              "      <td>{\"product_specification\"=&gt;[{\"key\"=&gt;\"Number of ...</td>\n",
              "      <td>2016</td>\n",
              "      <td>3</td>\n",
              "      <td>Clothing</td>\n",
              "    </tr>\n",
              "    <tr>\n",
              "      <th>1</th>\n",
              "      <td>7f7036a6d550aaa89d34c77bd39a5e48</td>\n",
              "      <td>2016-03-25 22:59:23+00:00</td>\n",
              "      <td>http://www.flipkart.com/fabhomedecor-fabric-do...</td>\n",
              "      <td>FabHomeDecor Fabric Double Sofa Bed</td>\n",
              "      <td>[\"Furniture &gt;&gt; Living Room Furniture &gt;&gt; Sofa B...</td>\n",
              "      <td>SBEEH3QGU7MFYJFY</td>\n",
              "      <td>32157.0</td>\n",
              "      <td>22646.0</td>\n",
              "      <td>[\"http://img6a.flixcart.com/image/sofa-bed/j/f...</td>\n",
              "      <td>False</td>\n",
              "      <td>FabHomeDecor Fabric Double Sofa Bed (Finish Co...</td>\n",
              "      <td>No rating available</td>\n",
              "      <td>No rating available</td>\n",
              "      <td>FabHomeDecor</td>\n",
              "      <td>{\"product_specification\"=&gt;[{\"key\"=&gt;\"Installati...</td>\n",
              "      <td>2016</td>\n",
              "      <td>3</td>\n",
              "      <td>Furniture</td>\n",
              "    </tr>\n",
              "    <tr>\n",
              "      <th>2</th>\n",
              "      <td>f449ec65dcbc041b6ae5e6a32717d01b</td>\n",
              "      <td>2016-03-25 22:59:23+00:00</td>\n",
              "      <td>http://www.flipkart.com/aw-bellies/p/itmeh4grg...</td>\n",
              "      <td>AW Bellies</td>\n",
              "      <td>[\"Footwear &gt;&gt; Women's Footwear &gt;&gt; Ballerinas &gt;...</td>\n",
              "      <td>SHOEH4GRSUBJGZXE</td>\n",
              "      <td>999.0</td>\n",
              "      <td>499.0</td>\n",
              "      <td>[\"http://img5a.flixcart.com/image/shoe/7/z/z/r...</td>\n",
              "      <td>False</td>\n",
              "      <td>Key Features of AW Bellies Sandals Wedges Heel...</td>\n",
              "      <td>No rating available</td>\n",
              "      <td>No rating available</td>\n",
              "      <td>AW</td>\n",
              "      <td>{\"product_specification\"=&gt;[{\"key\"=&gt;\"Ideal For\"...</td>\n",
              "      <td>2016</td>\n",
              "      <td>3</td>\n",
              "      <td>Footwear</td>\n",
              "    </tr>\n",
              "    <tr>\n",
              "      <th>3</th>\n",
              "      <td>0973b37acd0c664e3de26e97e5571454</td>\n",
              "      <td>2016-03-25 22:59:23+00:00</td>\n",
              "      <td>http://www.flipkart.com/alisha-solid-women-s-c...</td>\n",
              "      <td>Alisha Solid Women's Cycling Shorts</td>\n",
              "      <td>[\"Clothing &gt;&gt; Women's Clothing &gt;&gt; Lingerie, Sl...</td>\n",
              "      <td>SRTEH2F6HUZMQ6SJ</td>\n",
              "      <td>699.0</td>\n",
              "      <td>267.0</td>\n",
              "      <td>[\"http://img5a.flixcart.com/image/short/6/2/h/...</td>\n",
              "      <td>False</td>\n",
              "      <td>Key Features of Alisha Solid Women's Cycling S...</td>\n",
              "      <td>No rating available</td>\n",
              "      <td>No rating available</td>\n",
              "      <td>Alisha</td>\n",
              "      <td>{\"product_specification\"=&gt;[{\"key\"=&gt;\"Number of ...</td>\n",
              "      <td>2016</td>\n",
              "      <td>3</td>\n",
              "      <td>Clothing</td>\n",
              "    </tr>\n",
              "    <tr>\n",
              "      <th>4</th>\n",
              "      <td>bc940ea42ee6bef5ac7cea3fb5cfbee7</td>\n",
              "      <td>2016-03-25 22:59:23+00:00</td>\n",
              "      <td>http://www.flipkart.com/sicons-all-purpose-arn...</td>\n",
              "      <td>Sicons All Purpose Arnica Dog Shampoo</td>\n",
              "      <td>[\"Pet Supplies &gt;&gt; Grooming &gt;&gt; Skin &amp; Coat Care...</td>\n",
              "      <td>PSOEH3ZYDMSYARJ5</td>\n",
              "      <td>220.0</td>\n",
              "      <td>210.0</td>\n",
              "      <td>[\"http://img5a.flixcart.com/image/pet-shampoo/...</td>\n",
              "      <td>False</td>\n",
              "      <td>Specifications of Sicons All Purpose Arnica Do...</td>\n",
              "      <td>No rating available</td>\n",
              "      <td>No rating available</td>\n",
              "      <td>Sicons</td>\n",
              "      <td>{\"product_specification\"=&gt;[{\"key\"=&gt;\"Pet Type\",...</td>\n",
              "      <td>2016</td>\n",
              "      <td>3</td>\n",
              "      <td>Pet Supplies</td>\n",
              "    </tr>\n",
              "  </tbody>\n",
              "</table>\n",
              "</div>"
            ],
            "text/plain": [
              "                            uniq_id  ... primary_category\n",
              "0  c2d766ca982eca8304150849735ffef9  ...         Clothing\n",
              "1  7f7036a6d550aaa89d34c77bd39a5e48  ...        Furniture\n",
              "2  f449ec65dcbc041b6ae5e6a32717d01b  ...         Footwear\n",
              "3  0973b37acd0c664e3de26e97e5571454  ...         Clothing\n",
              "4  bc940ea42ee6bef5ac7cea3fb5cfbee7  ...     Pet Supplies\n",
              "\n",
              "[5 rows x 18 columns]"
            ]
          },
          "metadata": {
            "tags": []
          },
          "execution_count": 150
        }
      ]
    },
    {
      "cell_type": "markdown",
      "metadata": {
        "id": "aCdoUUBU0OsA"
      },
      "source": [
        "Defining functions to split the \"product_category_tree\" into various categories "
      ]
    },
    {
      "cell_type": "code",
      "metadata": {
        "id": "gUbaNBAWtA7C"
      },
      "source": [
        "def secondary_category(value):\n",
        "    try:\n",
        "        return value.split('>>')[1][1:len(value.split('>>')[1])-1]\n",
        "    except IndexError:\n",
        "        return 'None'       \n",
        "def tertiary_category(value):\n",
        "    try:\n",
        "        return value.split('>>')[2][1:len(value.split('>>')[2])-1]\n",
        "    except IndexError:\n",
        "        return 'None'\n",
        "def quaternary_category(value):\n",
        "    try:\n",
        "        return value.split('>>')[3][1:len(value.split('>>')[3])-1]\n",
        "    except IndexError:\n",
        "        return 'None'\n",
        "def fifth_category(value):\n",
        "    try:\n",
        "        return value.split('>>')[4][1:len(value.split('>>')[4])-1]\n",
        "    except IndexError:\n",
        "        return 'None'\n",
        "def sixth_category(value):\n",
        "    try:\n",
        "        return value.split('>>')[5][1:len(value.split('>>')[5])-1]\n",
        "    except IndexError:\n",
        "        return 'None'"
      ],
      "execution_count": 151,
      "outputs": []
    },
    {
      "cell_type": "code",
      "metadata": {
        "id": "JhOyZrvetjhk"
      },
      "source": [
        "#Gives categories\n",
        "Flipkart_data['secondary']=Flipkart_data['product_category_tree'].apply(secondary_category)\n",
        "Flipkart_data['tertiary']=Flipkart_data['product_category_tree'].apply(tertiary_category)\n",
        "Flipkart_data['quaternary']=Flipkart_data['product_category_tree'].apply(quaternary_category)\n",
        "Flipkart_data['fifth']=Flipkart_data['product_category_tree'].apply(fifth_category)\n",
        "Flipkart_data['sixth']=Flipkart_data['product_category_tree'].apply(sixth_category)"
      ],
      "execution_count": 152,
      "outputs": []
    },
    {
      "cell_type": "code",
      "metadata": {
        "colab": {
          "base_uri": "https://localhost:8080/",
          "height": 551
        },
        "id": "tZONimiYt2S9",
        "outputId": "ffddc08f-60e4-43a4-8304-7afb9ae4a0e1"
      },
      "source": [
        "Flipkart_data.head()"
      ],
      "execution_count": 153,
      "outputs": [
        {
          "output_type": "execute_result",
          "data": {
            "text/html": [
              "<div>\n",
              "<style scoped>\n",
              "    .dataframe tbody tr th:only-of-type {\n",
              "        vertical-align: middle;\n",
              "    }\n",
              "\n",
              "    .dataframe tbody tr th {\n",
              "        vertical-align: top;\n",
              "    }\n",
              "\n",
              "    .dataframe thead th {\n",
              "        text-align: right;\n",
              "    }\n",
              "</style>\n",
              "<table border=\"1\" class=\"dataframe\">\n",
              "  <thead>\n",
              "    <tr style=\"text-align: right;\">\n",
              "      <th></th>\n",
              "      <th>uniq_id</th>\n",
              "      <th>crawl_timestamp</th>\n",
              "      <th>product_url</th>\n",
              "      <th>product_name</th>\n",
              "      <th>product_category_tree</th>\n",
              "      <th>pid</th>\n",
              "      <th>retail_price</th>\n",
              "      <th>discounted_price</th>\n",
              "      <th>image</th>\n",
              "      <th>is_FK_Advantage_product</th>\n",
              "      <th>description</th>\n",
              "      <th>product_rating</th>\n",
              "      <th>overall_rating</th>\n",
              "      <th>brand</th>\n",
              "      <th>product_specifications</th>\n",
              "      <th>crawl_year</th>\n",
              "      <th>Month</th>\n",
              "      <th>primary_category</th>\n",
              "      <th>secondary</th>\n",
              "      <th>tertiary</th>\n",
              "      <th>quaternary</th>\n",
              "      <th>fifth</th>\n",
              "      <th>sixth</th>\n",
              "    </tr>\n",
              "  </thead>\n",
              "  <tbody>\n",
              "    <tr>\n",
              "      <th>0</th>\n",
              "      <td>c2d766ca982eca8304150849735ffef9</td>\n",
              "      <td>2016-03-25 22:59:23+00:00</td>\n",
              "      <td>http://www.flipkart.com/alisha-solid-women-s-c...</td>\n",
              "      <td>Alisha Solid Women's Cycling Shorts</td>\n",
              "      <td>[\"Clothing &gt;&gt; Women's Clothing &gt;&gt; Lingerie, Sl...</td>\n",
              "      <td>SRTEH2FF9KEDEFGF</td>\n",
              "      <td>999.0</td>\n",
              "      <td>379.0</td>\n",
              "      <td>[\"http://img5a.flixcart.com/image/short/u/4/a/...</td>\n",
              "      <td>False</td>\n",
              "      <td>Key Features of Alisha Solid Women's Cycling S...</td>\n",
              "      <td>No rating available</td>\n",
              "      <td>No rating available</td>\n",
              "      <td>Alisha</td>\n",
              "      <td>{\"product_specification\"=&gt;[{\"key\"=&gt;\"Number of ...</td>\n",
              "      <td>2016</td>\n",
              "      <td>3</td>\n",
              "      <td>Clothing</td>\n",
              "      <td>Women's Clothing</td>\n",
              "      <td>Lingerie, Sleep &amp; Swimwear</td>\n",
              "      <td>Shorts</td>\n",
              "      <td>Alisha Shorts</td>\n",
              "      <td>Alisha Solid Women's Cycling Shorts\"</td>\n",
              "    </tr>\n",
              "    <tr>\n",
              "      <th>1</th>\n",
              "      <td>7f7036a6d550aaa89d34c77bd39a5e48</td>\n",
              "      <td>2016-03-25 22:59:23+00:00</td>\n",
              "      <td>http://www.flipkart.com/fabhomedecor-fabric-do...</td>\n",
              "      <td>FabHomeDecor Fabric Double Sofa Bed</td>\n",
              "      <td>[\"Furniture &gt;&gt; Living Room Furniture &gt;&gt; Sofa B...</td>\n",
              "      <td>SBEEH3QGU7MFYJFY</td>\n",
              "      <td>32157.0</td>\n",
              "      <td>22646.0</td>\n",
              "      <td>[\"http://img6a.flixcart.com/image/sofa-bed/j/f...</td>\n",
              "      <td>False</td>\n",
              "      <td>FabHomeDecor Fabric Double Sofa Bed (Finish Co...</td>\n",
              "      <td>No rating available</td>\n",
              "      <td>No rating available</td>\n",
              "      <td>FabHomeDecor</td>\n",
              "      <td>{\"product_specification\"=&gt;[{\"key\"=&gt;\"Installati...</td>\n",
              "      <td>2016</td>\n",
              "      <td>3</td>\n",
              "      <td>Furniture</td>\n",
              "      <td>Living Room Furniture</td>\n",
              "      <td>Sofa Beds &amp; Futons</td>\n",
              "      <td>FabHomeDecor Fabric Double Sofa Bed (Finish Co...</td>\n",
              "      <td>None</td>\n",
              "      <td>None</td>\n",
              "    </tr>\n",
              "    <tr>\n",
              "      <th>2</th>\n",
              "      <td>f449ec65dcbc041b6ae5e6a32717d01b</td>\n",
              "      <td>2016-03-25 22:59:23+00:00</td>\n",
              "      <td>http://www.flipkart.com/aw-bellies/p/itmeh4grg...</td>\n",
              "      <td>AW Bellies</td>\n",
              "      <td>[\"Footwear &gt;&gt; Women's Footwear &gt;&gt; Ballerinas &gt;...</td>\n",
              "      <td>SHOEH4GRSUBJGZXE</td>\n",
              "      <td>999.0</td>\n",
              "      <td>499.0</td>\n",
              "      <td>[\"http://img5a.flixcart.com/image/shoe/7/z/z/r...</td>\n",
              "      <td>False</td>\n",
              "      <td>Key Features of AW Bellies Sandals Wedges Heel...</td>\n",
              "      <td>No rating available</td>\n",
              "      <td>No rating available</td>\n",
              "      <td>AW</td>\n",
              "      <td>{\"product_specification\"=&gt;[{\"key\"=&gt;\"Ideal For\"...</td>\n",
              "      <td>2016</td>\n",
              "      <td>3</td>\n",
              "      <td>Footwear</td>\n",
              "      <td>Women's Footwear</td>\n",
              "      <td>Ballerinas</td>\n",
              "      <td>AW Bellies\"</td>\n",
              "      <td>None</td>\n",
              "      <td>None</td>\n",
              "    </tr>\n",
              "    <tr>\n",
              "      <th>3</th>\n",
              "      <td>0973b37acd0c664e3de26e97e5571454</td>\n",
              "      <td>2016-03-25 22:59:23+00:00</td>\n",
              "      <td>http://www.flipkart.com/alisha-solid-women-s-c...</td>\n",
              "      <td>Alisha Solid Women's Cycling Shorts</td>\n",
              "      <td>[\"Clothing &gt;&gt; Women's Clothing &gt;&gt; Lingerie, Sl...</td>\n",
              "      <td>SRTEH2F6HUZMQ6SJ</td>\n",
              "      <td>699.0</td>\n",
              "      <td>267.0</td>\n",
              "      <td>[\"http://img5a.flixcart.com/image/short/6/2/h/...</td>\n",
              "      <td>False</td>\n",
              "      <td>Key Features of Alisha Solid Women's Cycling S...</td>\n",
              "      <td>No rating available</td>\n",
              "      <td>No rating available</td>\n",
              "      <td>Alisha</td>\n",
              "      <td>{\"product_specification\"=&gt;[{\"key\"=&gt;\"Number of ...</td>\n",
              "      <td>2016</td>\n",
              "      <td>3</td>\n",
              "      <td>Clothing</td>\n",
              "      <td>Women's Clothing</td>\n",
              "      <td>Lingerie, Sleep &amp; Swimwear</td>\n",
              "      <td>Shorts</td>\n",
              "      <td>Alisha Shorts</td>\n",
              "      <td>Alisha Solid Women's Cycling Shorts\"</td>\n",
              "    </tr>\n",
              "    <tr>\n",
              "      <th>4</th>\n",
              "      <td>bc940ea42ee6bef5ac7cea3fb5cfbee7</td>\n",
              "      <td>2016-03-25 22:59:23+00:00</td>\n",
              "      <td>http://www.flipkart.com/sicons-all-purpose-arn...</td>\n",
              "      <td>Sicons All Purpose Arnica Dog Shampoo</td>\n",
              "      <td>[\"Pet Supplies &gt;&gt; Grooming &gt;&gt; Skin &amp; Coat Care...</td>\n",
              "      <td>PSOEH3ZYDMSYARJ5</td>\n",
              "      <td>220.0</td>\n",
              "      <td>210.0</td>\n",
              "      <td>[\"http://img5a.flixcart.com/image/pet-shampoo/...</td>\n",
              "      <td>False</td>\n",
              "      <td>Specifications of Sicons All Purpose Arnica Do...</td>\n",
              "      <td>No rating available</td>\n",
              "      <td>No rating available</td>\n",
              "      <td>Sicons</td>\n",
              "      <td>{\"product_specification\"=&gt;[{\"key\"=&gt;\"Pet Type\",...</td>\n",
              "      <td>2016</td>\n",
              "      <td>3</td>\n",
              "      <td>Pet Supplies</td>\n",
              "      <td>Grooming</td>\n",
              "      <td>Skin &amp; Coat Care</td>\n",
              "      <td>Shampoo</td>\n",
              "      <td>Sicons All Purpose Arnica Dog Shampoo (500 ml)\"</td>\n",
              "      <td>None</td>\n",
              "    </tr>\n",
              "  </tbody>\n",
              "</table>\n",
              "</div>"
            ],
            "text/plain": [
              "                            uniq_id  ...                                 sixth\n",
              "0  c2d766ca982eca8304150849735ffef9  ...  Alisha Solid Women's Cycling Shorts\"\n",
              "1  7f7036a6d550aaa89d34c77bd39a5e48  ...                                  None\n",
              "2  f449ec65dcbc041b6ae5e6a32717d01b  ...                                  None\n",
              "3  0973b37acd0c664e3de26e97e5571454  ...  Alisha Solid Women's Cycling Shorts\"\n",
              "4  bc940ea42ee6bef5ac7cea3fb5cfbee7  ...                                  None\n",
              "\n",
              "[5 rows x 23 columns]"
            ]
          },
          "metadata": {
            "tags": []
          },
          "execution_count": 153
        }
      ]
    },
    {
      "cell_type": "code",
      "metadata": {
        "id": "lvhCEtmAnh3W",
        "colab": {
          "base_uri": "https://localhost:8080/"
        },
        "outputId": "b8deff34-e1c7-4206-a1f1-e79d4f7ecfc9"
      },
      "source": [
        "# Now we added many columns lets check the no. of rows and columns using shape function\n",
        "Flipkart_data.shape"
      ],
      "execution_count": 154,
      "outputs": [
        {
          "output_type": "execute_result",
          "data": {
            "text/plain": [
              "(20000, 23)"
            ]
          },
          "metadata": {
            "tags": []
          },
          "execution_count": 154
        }
      ]
    },
    {
      "cell_type": "code",
      "metadata": {
        "colab": {
          "base_uri": "https://localhost:8080/",
          "height": 629
        },
        "id": "V7pt_PyAgJmE",
        "outputId": "9754eeb0-21d4-4e6f-edbd-5b464f05053f"
      },
      "source": [
        "# lets visualize the primary category using plt.\n",
        "plt.figure(figsize=(10,10))\n",
        "Flipkart_data['primary_category'].value_counts()[:30].sort_values(ascending=False).plot(kind='barh')\n",
        "plt.yticks(fontsize=12)\n",
        "plt.xticks(fontsize=12)"
      ],
      "execution_count": 155,
      "outputs": [
        {
          "output_type": "execute_result",
          "data": {
            "text/plain": [
              "(array([   0., 1000., 2000., 3000., 4000., 5000., 6000., 7000.]),\n",
              " <a list of 8 Text major ticklabel objects>)"
            ]
          },
          "metadata": {
            "tags": []
          },
          "execution_count": 155
        },
        {
          "output_type": "display_data",
          "data": {
            "image/png": "[encoded data removed]",
            "text/plain": [
              "<Figure size 720x720 with 1 Axes>"
            ]
          },
          "metadata": {
            "tags": [],
            "needs_background": "light"
          }
        }
      ]
    },
    {
      "cell_type": "markdown",
      "metadata": {
        "id": "JYCt7Ak_gXNM"
      },
      "source": [
        "  **Most customers use flipkart for clothing**"
      ]
    },
    {
      "cell_type": "code",
      "metadata": {
        "colab": {
          "base_uri": "https://localhost:8080/",
          "height": 609
        },
        "id": "B_Z0UsxygJjP",
        "outputId": "48d1d853-7f81-451f-8865-aa6ccfa35ba4"
      },
      "source": [
        "# visualization the secondary category using plt.\n",
        "plt.figure(figsize=(10,10))\n",
        "Flipkart_data['secondary'].value_counts()[:20].sort_values(ascending=False).plot(kind='barh')"
      ],
      "execution_count": 156,
      "outputs": [
        {
          "output_type": "execute_result",
          "data": {
            "text/plain": [
              "<matplotlib.axes._subplots.AxesSubplot at 0x7fca442762d0>"
            ]
          },
          "metadata": {
            "tags": []
          },
          "execution_count": 156
        },
        {
          "output_type": "display_data",
          "data": {
            "image/png": "[encoded data removed]",
            "text/plain": [
              "<Figure size 720x720 with 1 Axes>"
            ]
          },
          "metadata": {
            "tags": [],
            "needs_background": "light"
          }
        }
      ]
    },
    {
      "cell_type": "markdown",
      "metadata": {
        "id": "q4GK7aVcglDq"
      },
      "source": [
        "**As the results says womens use flipkart more for shopping than men**"
      ]
    },
    {
      "cell_type": "code",
      "metadata": {
        "colab": {
          "base_uri": "https://localhost:8080/",
          "height": 609
        },
        "id": "NYxG70A7gJfi",
        "outputId": "bb638cd1-fc77-4671-9ff3-109c58f9ef2b"
      },
      "source": [
        "# visualization the tertiary category using plt.\n",
        "plt.figure(figsize=(10,10))\n",
        "Flipkart_data['tertiary'].value_counts()[:20].plot(kind='barh')"
      ],
      "execution_count": 157,
      "outputs": [
        {
          "output_type": "execute_result",
          "data": {
            "text/plain": [
              "<matplotlib.axes._subplots.AxesSubplot at 0x7fca4397bd10>"
            ]
          },
          "metadata": {
            "tags": []
          },
          "execution_count": 157
        },
        {
          "output_type": "display_data",
          "data": {
            "image/png": "[encoded data removed]",
            "text/plain": [
              "<Figure size 720x720 with 1 Axes>"
            ]
          },
          "metadata": {
            "tags": [],
            "needs_background": "light"
          }
        }
      ]
    },
    {
      "cell_type": "markdown",
      "metadata": {
        "id": "9JTdYF7DhPR7"
      },
      "source": [
        "**In the tertiary category we have customers who prefer western wear**"
      ]
    },
    {
      "cell_type": "code",
      "metadata": {
        "colab": {
          "base_uri": "https://localhost:8080/",
          "height": 609
        },
        "id": "ciu3ixKWgJeK",
        "outputId": "9bed7135-0a2d-4c50-d516-5731cf46928b"
      },
      "source": [
        "# visualization the quaternary category using plt.\n",
        "plt.figure(figsize=(10,10))\n",
        "Flipkart_data['quaternary'].value_counts()[:20].plot(kind='barh')"
      ],
      "execution_count": 158,
      "outputs": [
        {
          "output_type": "execute_result",
          "data": {
            "text/plain": [
              "<matplotlib.axes._subplots.AxesSubplot at 0x7fca437c12d0>"
            ]
          },
          "metadata": {
            "tags": []
          },
          "execution_count": 158
        },
        {
          "output_type": "display_data",
          "data": {
            "image/png": "[encoded data removed]",
            "text/plain": [
              "<Figure size 720x720 with 1 Axes>"
            ]
          },
          "metadata": {
            "tags": [],
            "needs_background": "light"
          }
        }
      ]
    },
    {
      "cell_type": "markdown",
      "metadata": {
        "id": "N4cw0cTBh0RH"
      },
      "source": [
        "**Considering 4th category, we have many null values.**"
      ]
    },
    {
      "cell_type": "code",
      "metadata": {
        "colab": {
          "base_uri": "https://localhost:8080/"
        },
        "id": "VodpPCjggJai",
        "outputId": "2ed9106d-2dee-4ae7-9141-c3ae8505e9e1"
      },
      "source": [
        "# listing out column names of the dataframe.\n",
        "Flipkart_data.columns"
      ],
      "execution_count": 159,
      "outputs": [
        {
          "output_type": "execute_result",
          "data": {
            "text/plain": [
              "Index(['uniq_id', 'crawl_timestamp', 'product_url', 'product_name',\n",
              "       'product_category_tree', 'pid', 'retail_price', 'discounted_price',\n",
              "       'image', 'is_FK_Advantage_product', 'description', 'product_rating',\n",
              "       'overall_rating', 'brand', 'product_specifications', 'crawl_year',\n",
              "       'Month', 'primary_category', 'secondary', 'tertiary', 'quaternary',\n",
              "       'fifth', 'sixth'],\n",
              "      dtype='object')"
            ]
          },
          "metadata": {
            "tags": []
          },
          "execution_count": 159
        }
      ]
    },
    {
      "cell_type": "code",
      "metadata": {
        "colab": {
          "base_uri": "https://localhost:8080/",
          "height": 67
        },
        "id": "vKXSSUe66jnb",
        "outputId": "8d28734a-8d1c-4eaf-fe23-0f4842cab101"
      },
      "source": [
        "# Lists out if the column \"primary_category\" have None values\n",
        "Flipkart_data.loc[Flipkart_data.primary_category == 'None']"
      ],
      "execution_count": 160,
      "outputs": [
        {
          "output_type": "execute_result",
          "data": {
            "text/html": [
              "<div>\n",
              "<style scoped>\n",
              "    .dataframe tbody tr th:only-of-type {\n",
              "        vertical-align: middle;\n",
              "    }\n",
              "\n",
              "    .dataframe tbody tr th {\n",
              "        vertical-align: top;\n",
              "    }\n",
              "\n",
              "    .dataframe thead th {\n",
              "        text-align: right;\n",
              "    }\n",
              "</style>\n",
              "<table border=\"1\" class=\"dataframe\">\n",
              "  <thead>\n",
              "    <tr style=\"text-align: right;\">\n",
              "      <th></th>\n",
              "      <th>uniq_id</th>\n",
              "      <th>crawl_timestamp</th>\n",
              "      <th>product_url</th>\n",
              "      <th>product_name</th>\n",
              "      <th>product_category_tree</th>\n",
              "      <th>pid</th>\n",
              "      <th>retail_price</th>\n",
              "      <th>discounted_price</th>\n",
              "      <th>image</th>\n",
              "      <th>is_FK_Advantage_product</th>\n",
              "      <th>description</th>\n",
              "      <th>product_rating</th>\n",
              "      <th>overall_rating</th>\n",
              "      <th>brand</th>\n",
              "      <th>product_specifications</th>\n",
              "      <th>crawl_year</th>\n",
              "      <th>Month</th>\n",
              "      <th>primary_category</th>\n",
              "      <th>secondary</th>\n",
              "      <th>tertiary</th>\n",
              "      <th>quaternary</th>\n",
              "      <th>fifth</th>\n",
              "      <th>sixth</th>\n",
              "    </tr>\n",
              "  </thead>\n",
              "  <tbody>\n",
              "  </tbody>\n",
              "</table>\n",
              "</div>"
            ],
            "text/plain": [
              "Empty DataFrame\n",
              "Columns: [uniq_id, crawl_timestamp, product_url, product_name, product_category_tree, pid, retail_price, discounted_price, image, is_FK_Advantage_product, description, product_rating, overall_rating, brand, product_specifications, crawl_year, Month, primary_category, secondary, tertiary, quaternary, fifth, sixth]\n",
              "Index: []"
            ]
          },
          "metadata": {
            "tags": []
          },
          "execution_count": 160
        }
      ]
    },
    {
      "cell_type": "markdown",
      "metadata": {
        "id": "v07f74zt7hAN"
      },
      "source": [
        "column \"primary_category\" have 0 None values"
      ]
    },
    {
      "cell_type": "code",
      "metadata": {
        "colab": {
          "base_uri": "https://localhost:8080/",
          "height": 1000
        },
        "id": "O11p7l105nYw",
        "outputId": "b6f32f45-531b-4351-91b4-cb7e3cbd0fb0"
      },
      "source": [
        "# Lists out if the column \"secondary\" have None values\n",
        "Flipkart_data.loc[Flipkart_data.secondary == 'None']"
      ],
      "execution_count": 161,
      "outputs": [
        {
          "output_type": "execute_result",
          "data": {
            "text/html": [
              "<div>\n",
              "<style scoped>\n",
              "    .dataframe tbody tr th:only-of-type {\n",
              "        vertical-align: middle;\n",
              "    }\n",
              "\n",
              "    .dataframe tbody tr th {\n",
              "        vertical-align: top;\n",
              "    }\n",
              "\n",
              "    .dataframe thead th {\n",
              "        text-align: right;\n",
              "    }\n",
              "</style>\n",
              "<table border=\"1\" class=\"dataframe\">\n",
              "  <thead>\n",
              "    <tr style=\"text-align: right;\">\n",
              "      <th></th>\n",
              "      <th>uniq_id</th>\n",
              "      <th>crawl_timestamp</th>\n",
              "      <th>product_url</th>\n",
              "      <th>product_name</th>\n",
              "      <th>product_category_tree</th>\n",
              "      <th>pid</th>\n",
              "      <th>retail_price</th>\n",
              "      <th>discounted_price</th>\n",
              "      <th>image</th>\n",
              "      <th>is_FK_Advantage_product</th>\n",
              "      <th>description</th>\n",
              "      <th>product_rating</th>\n",
              "      <th>overall_rating</th>\n",
              "      <th>brand</th>\n",
              "      <th>product_specifications</th>\n",
              "      <th>crawl_year</th>\n",
              "      <th>Month</th>\n",
              "      <th>primary_category</th>\n",
              "      <th>secondary</th>\n",
              "      <th>tertiary</th>\n",
              "      <th>quaternary</th>\n",
              "      <th>fifth</th>\n",
              "      <th>sixth</th>\n",
              "    </tr>\n",
              "  </thead>\n",
              "  <tbody>\n",
              "    <tr>\n",
              "      <th>5</th>\n",
              "      <td>c2a17313954882c1dba461863e98adf2</td>\n",
              "      <td>2016-03-25 22:59:23+00:00</td>\n",
              "      <td>http://www.flipkart.com/eternal-gandhi-super-s...</td>\n",
              "      <td>Eternal Gandhi Super Series Crystal Paper Weig...</td>\n",
              "      <td>[\"Eternal Gandhi Super Series Crystal Paper We...</td>\n",
              "      <td>PWTEB7H2E4KCYUE3</td>\n",
              "      <td>430.0</td>\n",
              "      <td>430.0</td>\n",
              "      <td>[\"http://img5a.flixcart.com/image/paper-weight...</td>\n",
              "      <td>False</td>\n",
              "      <td>Key Features of Eternal Gandhi Super Series Cr...</td>\n",
              "      <td>No rating available</td>\n",
              "      <td>No rating available</td>\n",
              "      <td>Eternal Gandhi</td>\n",
              "      <td>{\"product_specification\"=&gt;[{\"key\"=&gt;\"Model Name...</td>\n",
              "      <td>2016</td>\n",
              "      <td>3</td>\n",
              "      <td>Eternal Gandhi Super Series Crystal Paper Weig...</td>\n",
              "      <td>None</td>\n",
              "      <td>None</td>\n",
              "      <td>None</td>\n",
              "      <td>None</td>\n",
              "      <td>None</td>\n",
              "    </tr>\n",
              "    <tr>\n",
              "      <th>30</th>\n",
              "      <td>186d40c6852da91166c7eb7856603c51</td>\n",
              "      <td>2016-05-11 09:26:02+00:00</td>\n",
              "      <td>http://www.flipkart.com/bengal-blooms-rose-art...</td>\n",
              "      <td>Bengal Blooms Rose Artificial Plant  with Pot</td>\n",
              "      <td>[\"Bengal Blooms Rose Artificial Plant  with Po...</td>\n",
              "      <td>ARPEGDHSXZJSHGSN</td>\n",
              "      <td>799.0</td>\n",
              "      <td>579.0</td>\n",
              "      <td>[\"http://img5a.flixcart.com/image/artificial-p...</td>\n",
              "      <td>False</td>\n",
              "      <td>Key Features of Bengal Blooms Rose Artificial ...</td>\n",
              "      <td>No rating available</td>\n",
              "      <td>No rating available</td>\n",
              "      <td>Bengal Blooms</td>\n",
              "      <td>{\"product_specification\"=&gt;[{\"key\"=&gt;\"Brand\", \"v...</td>\n",
              "      <td>2016</td>\n",
              "      <td>5</td>\n",
              "      <td>Bengal Blooms Rose Artificial Plant  with Pot ...</td>\n",
              "      <td>None</td>\n",
              "      <td>None</td>\n",
              "      <td>None</td>\n",
              "      <td>None</td>\n",
              "      <td>None</td>\n",
              "    </tr>\n",
              "    <tr>\n",
              "      <th>44</th>\n",
              "      <td>6ef0a5eb033cd610d455be7102da5685</td>\n",
              "      <td>2016-04-05 17:56:58+00:00</td>\n",
              "      <td>http://www.flipkart.com/vishudh-printed-women-...</td>\n",
              "      <td>Vishudh Printed Women's Straight Kurta</td>\n",
              "      <td>[\"Vishudh Printed Women's Straight Kurta\"]</td>\n",
              "      <td>KTAEHE9HAED4VUQB</td>\n",
              "      <td>999.0</td>\n",
              "      <td>499.0</td>\n",
              "      <td>[\"http://img5a.flixcart.com/image/kurta/d/s/y/...</td>\n",
              "      <td>False</td>\n",
              "      <td>Specifications of Vishudh Printed Women's Stra...</td>\n",
              "      <td>No rating available</td>\n",
              "      <td>No rating available</td>\n",
              "      <td>Vishudh</td>\n",
              "      <td>{\"product_specification\"=&gt;[{\"key\"=&gt;\"Sleeve\", \"...</td>\n",
              "      <td>2016</td>\n",
              "      <td>4</td>\n",
              "      <td>Vishudh Printed Women's Straight Kurta\"</td>\n",
              "      <td>None</td>\n",
              "      <td>None</td>\n",
              "      <td>None</td>\n",
              "      <td>None</td>\n",
              "      <td>None</td>\n",
              "    </tr>\n",
              "    <tr>\n",
              "      <th>45</th>\n",
              "      <td>c9c27aa5dc7df49e82e55e8abb6b4020</td>\n",
              "      <td>2016-04-05 17:56:58+00:00</td>\n",
              "      <td>http://www.flipkart.com/vishudh-printed-women-...</td>\n",
              "      <td>Vishudh Printed Women's Straight Kurta</td>\n",
              "      <td>[\"Vishudh Printed Women's Straight Kurta\"]</td>\n",
              "      <td>KTAEHE9KFCMVVSBN</td>\n",
              "      <td>899.0</td>\n",
              "      <td>449.0</td>\n",
              "      <td>[\"http://img5a.flixcart.com/image/kurta/s/c/g/...</td>\n",
              "      <td>False</td>\n",
              "      <td>Specifications of Vishudh Printed Women's Stra...</td>\n",
              "      <td>No rating available</td>\n",
              "      <td>No rating available</td>\n",
              "      <td>Vishudh</td>\n",
              "      <td>{\"product_specification\"=&gt;[{\"key\"=&gt;\"Sleeve\", \"...</td>\n",
              "      <td>2016</td>\n",
              "      <td>4</td>\n",
              "      <td>Vishudh Printed Women's Straight Kurta\"</td>\n",
              "      <td>None</td>\n",
              "      <td>None</td>\n",
              "      <td>None</td>\n",
              "      <td>None</td>\n",
              "      <td>None</td>\n",
              "    </tr>\n",
              "    <tr>\n",
              "      <th>46</th>\n",
              "      <td>8bc90f8a2ab89daa6ea69d42fe24c985</td>\n",
              "      <td>2016-04-05 17:56:58+00:00</td>\n",
              "      <td>http://www.flipkart.com/vishudh-printed-women-...</td>\n",
              "      <td>Vishudh Printed Women's Anarkali Kurta</td>\n",
              "      <td>[\"Vishudh Printed Women's Anarkali Kurta\"]</td>\n",
              "      <td>KTAEHE9KEZBBQHYA</td>\n",
              "      <td>2099.0</td>\n",
              "      <td>1049.0</td>\n",
              "      <td>[\"http://img5a.flixcart.com/image/kurta/f/c/4/...</td>\n",
              "      <td>False</td>\n",
              "      <td>Specifications of Vishudh Printed Women's Anar...</td>\n",
              "      <td>No rating available</td>\n",
              "      <td>No rating available</td>\n",
              "      <td>Vishudh</td>\n",
              "      <td>{\"product_specification\"=&gt;[{\"key\"=&gt;\"Sleeve\", \"...</td>\n",
              "      <td>2016</td>\n",
              "      <td>4</td>\n",
              "      <td>Vishudh Printed Women's Anarkali Kurta\"</td>\n",
              "      <td>None</td>\n",
              "      <td>None</td>\n",
              "      <td>None</td>\n",
              "      <td>None</td>\n",
              "      <td>None</td>\n",
              "    </tr>\n",
              "    <tr>\n",
              "      <th>...</th>\n",
              "      <td>...</td>\n",
              "      <td>...</td>\n",
              "      <td>...</td>\n",
              "      <td>...</td>\n",
              "      <td>...</td>\n",
              "      <td>...</td>\n",
              "      <td>...</td>\n",
              "      <td>...</td>\n",
              "      <td>...</td>\n",
              "      <td>...</td>\n",
              "      <td>...</td>\n",
              "      <td>...</td>\n",
              "      <td>...</td>\n",
              "      <td>...</td>\n",
              "      <td>...</td>\n",
              "      <td>...</td>\n",
              "      <td>...</td>\n",
              "      <td>...</td>\n",
              "      <td>...</td>\n",
              "      <td>...</td>\n",
              "      <td>...</td>\n",
              "      <td>...</td>\n",
              "      <td>...</td>\n",
              "    </tr>\n",
              "    <tr>\n",
              "      <th>19421</th>\n",
              "      <td>1097bf3309520a0d6827d6b38efdc8d1</td>\n",
              "      <td>2016-04-12 05:40:04+00:00</td>\n",
              "      <td>http://www.flipkart.com/pazel-slim-fit-men-s-j...</td>\n",
              "      <td>Pazel Slim Fit Men's Jeans</td>\n",
              "      <td>[\"Pazel Slim Fit Men's Jeans\"]</td>\n",
              "      <td>JEAEHG766QCG2Z7S</td>\n",
              "      <td>1249.0</td>\n",
              "      <td>549.0</td>\n",
              "      <td>[\"http://img6a.flixcart.com/image/jean/h/n/k/w...</td>\n",
              "      <td>False</td>\n",
              "      <td>Key Features of Pazel Slim Fit Men's Jeans Col...</td>\n",
              "      <td>No rating available</td>\n",
              "      <td>No rating available</td>\n",
              "      <td>Pazel</td>\n",
              "      <td>{\"product_specification\"=&gt;[{\"key\"=&gt;\"Ideal For\"...</td>\n",
              "      <td>2016</td>\n",
              "      <td>4</td>\n",
              "      <td>Pazel Slim Fit Men's Jeans\"</td>\n",
              "      <td>None</td>\n",
              "      <td>None</td>\n",
              "      <td>None</td>\n",
              "      <td>None</td>\n",
              "      <td>None</td>\n",
              "    </tr>\n",
              "    <tr>\n",
              "      <th>19431</th>\n",
              "      <td>088269cb127fff651043273281793597</td>\n",
              "      <td>2016-05-02 05:11:30+00:00</td>\n",
              "      <td>http://www.flipkart.com/smart-traders-girls-be...</td>\n",
              "      <td>SMART TRADERS Girls Bellies</td>\n",
              "      <td>[\"SMART TRADERS Girls Bellies\"]</td>\n",
              "      <td>SNDEGAHFHSWVDGNZ</td>\n",
              "      <td>1299.0</td>\n",
              "      <td>650.0</td>\n",
              "      <td>[\"http://img6a.flixcart.com/image/sandal/g/n/z...</td>\n",
              "      <td>False</td>\n",
              "      <td>Key Features of SMART TRADERS Girls Bellies Oc...</td>\n",
              "      <td>No rating available</td>\n",
              "      <td>No rating available</td>\n",
              "      <td>SMART TRADERS</td>\n",
              "      <td>{\"product_specification\"=&gt;[{\"key\"=&gt;\"Occasion\",...</td>\n",
              "      <td>2016</td>\n",
              "      <td>5</td>\n",
              "      <td>SMART TRADERS Girls Bellies\"</td>\n",
              "      <td>None</td>\n",
              "      <td>None</td>\n",
              "      <td>None</td>\n",
              "      <td>None</td>\n",
              "      <td>None</td>\n",
              "    </tr>\n",
              "    <tr>\n",
              "      <th>19434</th>\n",
              "      <td>145c6ce4e94c807c0eab09e08569c663</td>\n",
              "      <td>2016-04-18 13:59:52+00:00</td>\n",
              "      <td>http://www.flipkart.com/corcepts-universal-tab...</td>\n",
              "      <td>Corcepts Universal Tablet HD Ultra Clear Trans...</td>\n",
              "      <td>[\"Corcepts Universal Tablet HD Ultra Clear Tra...</td>\n",
              "      <td>ACCEHQJT59UZYR7B</td>\n",
              "      <td>999.0</td>\n",
              "      <td>399.0</td>\n",
              "      <td>[\"http://img5a.flixcart.com/image/screen-guard...</td>\n",
              "      <td>False</td>\n",
              "      <td>Key Features of Corcepts Universal Tablet HD U...</td>\n",
              "      <td>No rating available</td>\n",
              "      <td>No rating available</td>\n",
              "      <td>Corcepts</td>\n",
              "      <td>{\"product_specification\"=&gt;[{\"key\"=&gt;\"Brand\", \"v...</td>\n",
              "      <td>2016</td>\n",
              "      <td>4</td>\n",
              "      <td>Corcepts Universal Tablet HD Ultra Clear Trans...</td>\n",
              "      <td>None</td>\n",
              "      <td>None</td>\n",
              "      <td>None</td>\n",
              "      <td>None</td>\n",
              "      <td>None</td>\n",
              "    </tr>\n",
              "    <tr>\n",
              "      <th>19435</th>\n",
              "      <td>68e8358bb26515ba1e0d8e992984472a</td>\n",
              "      <td>2016-04-18 13:59:52+00:00</td>\n",
              "      <td>http://www.flipkart.com/areon-luxurious-fragra...</td>\n",
              "      <td>Areon Luxurious Fragrance Long Lasting Car,Hom...</td>\n",
              "      <td>[\"Areon Luxurious Fragrance Long Lasting Car,H...</td>\n",
              "      <td>AIREHRXSYBMXKB4X</td>\n",
              "      <td>499.0</td>\n",
              "      <td>269.0</td>\n",
              "      <td>[\"http://img6a.flixcart.com/image/air-freshene...</td>\n",
              "      <td>False</td>\n",
              "      <td>Key Features of Areon Luxurious Fragrance Long...</td>\n",
              "      <td>No rating available</td>\n",
              "      <td>No rating available</td>\n",
              "      <td>Areon</td>\n",
              "      <td>{\"product_specification\"=&gt;[{\"key\"=&gt;\"Brand\", \"v...</td>\n",
              "      <td>2016</td>\n",
              "      <td>4</td>\n",
              "      <td>Areon Luxurious Fragrance Long Lasting Car,Hom...</td>\n",
              "      <td>None</td>\n",
              "      <td>None</td>\n",
              "      <td>None</td>\n",
              "      <td>None</td>\n",
              "      <td>None</td>\n",
              "    </tr>\n",
              "    <tr>\n",
              "      <th>19436</th>\n",
              "      <td>470b1a434693b9a37b31c1d94d73686a</td>\n",
              "      <td>2016-04-18 13:59:52+00:00</td>\n",
              "      <td>http://www.flipkart.com/corcepts-universal-tab...</td>\n",
              "      <td>Corcepts Universal Tablet HD Ultra Clear Trans...</td>\n",
              "      <td>[\"Corcepts Universal Tablet HD Ultra Clear Tra...</td>\n",
              "      <td>ACCEHQJT86WCX9ZA</td>\n",
              "      <td>999.0</td>\n",
              "      <td>399.0</td>\n",
              "      <td>[\"http://img5a.flixcart.com/image/screen-guard...</td>\n",
              "      <td>False</td>\n",
              "      <td>Key Features of Corcepts Universal Tablet HD U...</td>\n",
              "      <td>No rating available</td>\n",
              "      <td>No rating available</td>\n",
              "      <td>Corcepts</td>\n",
              "      <td>{\"product_specification\"=&gt;[{\"key\"=&gt;\"Brand\", \"v...</td>\n",
              "      <td>2016</td>\n",
              "      <td>4</td>\n",
              "      <td>Corcepts Universal Tablet HD Ultra Clear Trans...</td>\n",
              "      <td>None</td>\n",
              "      <td>None</td>\n",
              "      <td>None</td>\n",
              "      <td>None</td>\n",
              "      <td>None</td>\n",
              "    </tr>\n",
              "  </tbody>\n",
              "</table>\n",
              "<p>328 rows × 23 columns</p>\n",
              "</div>"
            ],
            "text/plain": [
              "                                uniq_id           crawl_timestamp  ... fifth sixth\n",
              "5      c2a17313954882c1dba461863e98adf2 2016-03-25 22:59:23+00:00  ...  None  None\n",
              "30     186d40c6852da91166c7eb7856603c51 2016-05-11 09:26:02+00:00  ...  None  None\n",
              "44     6ef0a5eb033cd610d455be7102da5685 2016-04-05 17:56:58+00:00  ...  None  None\n",
              "45     c9c27aa5dc7df49e82e55e8abb6b4020 2016-04-05 17:56:58+00:00  ...  None  None\n",
              "46     8bc90f8a2ab89daa6ea69d42fe24c985 2016-04-05 17:56:58+00:00  ...  None  None\n",
              "...                                 ...                       ...  ...   ...   ...\n",
              "19421  1097bf3309520a0d6827d6b38efdc8d1 2016-04-12 05:40:04+00:00  ...  None  None\n",
              "19431  088269cb127fff651043273281793597 2016-05-02 05:11:30+00:00  ...  None  None\n",
              "19434  145c6ce4e94c807c0eab09e08569c663 2016-04-18 13:59:52+00:00  ...  None  None\n",
              "19435  68e8358bb26515ba1e0d8e992984472a 2016-04-18 13:59:52+00:00  ...  None  None\n",
              "19436  470b1a434693b9a37b31c1d94d73686a 2016-04-18 13:59:52+00:00  ...  None  None\n",
              "\n",
              "[328 rows x 23 columns]"
            ]
          },
          "metadata": {
            "tags": []
          },
          "execution_count": 161
        }
      ]
    },
    {
      "cell_type": "markdown",
      "metadata": {
        "id": "GOvtCP8s8RlE"
      },
      "source": [
        "column \"secondary\" have 328 None values."
      ]
    },
    {
      "cell_type": "code",
      "metadata": {
        "colab": {
          "base_uri": "https://localhost:8080/",
          "height": 1000
        },
        "id": "mZ-CqOUz6uea",
        "outputId": "13515b84-3b07-4525-c6e0-7def08455896"
      },
      "source": [
        "# Lists out if the column \"tertiary\" have None values\n",
        "Flipkart_data.loc[Flipkart_data.tertiary == 'None']"
      ],
      "execution_count": 162,
      "outputs": [
        {
          "output_type": "execute_result",
          "data": {
            "text/html": [
              "<div>\n",
              "<style scoped>\n",
              "    .dataframe tbody tr th:only-of-type {\n",
              "        vertical-align: middle;\n",
              "    }\n",
              "\n",
              "    .dataframe tbody tr th {\n",
              "        vertical-align: top;\n",
              "    }\n",
              "\n",
              "    .dataframe thead th {\n",
              "        text-align: right;\n",
              "    }\n",
              "</style>\n",
              "<table border=\"1\" class=\"dataframe\">\n",
              "  <thead>\n",
              "    <tr style=\"text-align: right;\">\n",
              "      <th></th>\n",
              "      <th>uniq_id</th>\n",
              "      <th>crawl_timestamp</th>\n",
              "      <th>product_url</th>\n",
              "      <th>product_name</th>\n",
              "      <th>product_category_tree</th>\n",
              "      <th>pid</th>\n",
              "      <th>retail_price</th>\n",
              "      <th>discounted_price</th>\n",
              "      <th>image</th>\n",
              "      <th>is_FK_Advantage_product</th>\n",
              "      <th>description</th>\n",
              "      <th>product_rating</th>\n",
              "      <th>overall_rating</th>\n",
              "      <th>brand</th>\n",
              "      <th>product_specifications</th>\n",
              "      <th>crawl_year</th>\n",
              "      <th>Month</th>\n",
              "      <th>primary_category</th>\n",
              "      <th>secondary</th>\n",
              "      <th>tertiary</th>\n",
              "      <th>quaternary</th>\n",
              "      <th>fifth</th>\n",
              "      <th>sixth</th>\n",
              "    </tr>\n",
              "  </thead>\n",
              "  <tbody>\n",
              "    <tr>\n",
              "      <th>5</th>\n",
              "      <td>c2a17313954882c1dba461863e98adf2</td>\n",
              "      <td>2016-03-25 22:59:23+00:00</td>\n",
              "      <td>http://www.flipkart.com/eternal-gandhi-super-s...</td>\n",
              "      <td>Eternal Gandhi Super Series Crystal Paper Weig...</td>\n",
              "      <td>[\"Eternal Gandhi Super Series Crystal Paper We...</td>\n",
              "      <td>PWTEB7H2E4KCYUE3</td>\n",
              "      <td>430.0</td>\n",
              "      <td>430.0</td>\n",
              "      <td>[\"http://img5a.flixcart.com/image/paper-weight...</td>\n",
              "      <td>False</td>\n",
              "      <td>Key Features of Eternal Gandhi Super Series Cr...</td>\n",
              "      <td>No rating available</td>\n",
              "      <td>No rating available</td>\n",
              "      <td>Eternal Gandhi</td>\n",
              "      <td>{\"product_specification\"=&gt;[{\"key\"=&gt;\"Model Name...</td>\n",
              "      <td>2016</td>\n",
              "      <td>3</td>\n",
              "      <td>Eternal Gandhi Super Series Crystal Paper Weig...</td>\n",
              "      <td>None</td>\n",
              "      <td>None</td>\n",
              "      <td>None</td>\n",
              "      <td>None</td>\n",
              "      <td>None</td>\n",
              "    </tr>\n",
              "    <tr>\n",
              "      <th>30</th>\n",
              "      <td>186d40c6852da91166c7eb7856603c51</td>\n",
              "      <td>2016-05-11 09:26:02+00:00</td>\n",
              "      <td>http://www.flipkart.com/bengal-blooms-rose-art...</td>\n",
              "      <td>Bengal Blooms Rose Artificial Plant  with Pot</td>\n",
              "      <td>[\"Bengal Blooms Rose Artificial Plant  with Po...</td>\n",
              "      <td>ARPEGDHSXZJSHGSN</td>\n",
              "      <td>799.0</td>\n",
              "      <td>579.0</td>\n",
              "      <td>[\"http://img5a.flixcart.com/image/artificial-p...</td>\n",
              "      <td>False</td>\n",
              "      <td>Key Features of Bengal Blooms Rose Artificial ...</td>\n",
              "      <td>No rating available</td>\n",
              "      <td>No rating available</td>\n",
              "      <td>Bengal Blooms</td>\n",
              "      <td>{\"product_specification\"=&gt;[{\"key\"=&gt;\"Brand\", \"v...</td>\n",
              "      <td>2016</td>\n",
              "      <td>5</td>\n",
              "      <td>Bengal Blooms Rose Artificial Plant  with Pot ...</td>\n",
              "      <td>None</td>\n",
              "      <td>None</td>\n",
              "      <td>None</td>\n",
              "      <td>None</td>\n",
              "      <td>None</td>\n",
              "    </tr>\n",
              "    <tr>\n",
              "      <th>44</th>\n",
              "      <td>6ef0a5eb033cd610d455be7102da5685</td>\n",
              "      <td>2016-04-05 17:56:58+00:00</td>\n",
              "      <td>http://www.flipkart.com/vishudh-printed-women-...</td>\n",
              "      <td>Vishudh Printed Women's Straight Kurta</td>\n",
              "      <td>[\"Vishudh Printed Women's Straight Kurta\"]</td>\n",
              "      <td>KTAEHE9HAED4VUQB</td>\n",
              "      <td>999.0</td>\n",
              "      <td>499.0</td>\n",
              "      <td>[\"http://img5a.flixcart.com/image/kurta/d/s/y/...</td>\n",
              "      <td>False</td>\n",
              "      <td>Specifications of Vishudh Printed Women's Stra...</td>\n",
              "      <td>No rating available</td>\n",
              "      <td>No rating available</td>\n",
              "      <td>Vishudh</td>\n",
              "      <td>{\"product_specification\"=&gt;[{\"key\"=&gt;\"Sleeve\", \"...</td>\n",
              "      <td>2016</td>\n",
              "      <td>4</td>\n",
              "      <td>Vishudh Printed Women's Straight Kurta\"</td>\n",
              "      <td>None</td>\n",
              "      <td>None</td>\n",
              "      <td>None</td>\n",
              "      <td>None</td>\n",
              "      <td>None</td>\n",
              "    </tr>\n",
              "    <tr>\n",
              "      <th>45</th>\n",
              "      <td>c9c27aa5dc7df49e82e55e8abb6b4020</td>\n",
              "      <td>2016-04-05 17:56:58+00:00</td>\n",
              "      <td>http://www.flipkart.com/vishudh-printed-women-...</td>\n",
              "      <td>Vishudh Printed Women's Straight Kurta</td>\n",
              "      <td>[\"Vishudh Printed Women's Straight Kurta\"]</td>\n",
              "      <td>KTAEHE9KFCMVVSBN</td>\n",
              "      <td>899.0</td>\n",
              "      <td>449.0</td>\n",
              "      <td>[\"http://img5a.flixcart.com/image/kurta/s/c/g/...</td>\n",
              "      <td>False</td>\n",
              "      <td>Specifications of Vishudh Printed Women's Stra...</td>\n",
              "      <td>No rating available</td>\n",
              "      <td>No rating available</td>\n",
              "      <td>Vishudh</td>\n",
              "      <td>{\"product_specification\"=&gt;[{\"key\"=&gt;\"Sleeve\", \"...</td>\n",
              "      <td>2016</td>\n",
              "      <td>4</td>\n",
              "      <td>Vishudh Printed Women's Straight Kurta\"</td>\n",
              "      <td>None</td>\n",
              "      <td>None</td>\n",
              "      <td>None</td>\n",
              "      <td>None</td>\n",
              "      <td>None</td>\n",
              "    </tr>\n",
              "    <tr>\n",
              "      <th>46</th>\n",
              "      <td>8bc90f8a2ab89daa6ea69d42fe24c985</td>\n",
              "      <td>2016-04-05 17:56:58+00:00</td>\n",
              "      <td>http://www.flipkart.com/vishudh-printed-women-...</td>\n",
              "      <td>Vishudh Printed Women's Anarkali Kurta</td>\n",
              "      <td>[\"Vishudh Printed Women's Anarkali Kurta\"]</td>\n",
              "      <td>KTAEHE9KEZBBQHYA</td>\n",
              "      <td>2099.0</td>\n",
              "      <td>1049.0</td>\n",
              "      <td>[\"http://img5a.flixcart.com/image/kurta/f/c/4/...</td>\n",
              "      <td>False</td>\n",
              "      <td>Specifications of Vishudh Printed Women's Anar...</td>\n",
              "      <td>No rating available</td>\n",
              "      <td>No rating available</td>\n",
              "      <td>Vishudh</td>\n",
              "      <td>{\"product_specification\"=&gt;[{\"key\"=&gt;\"Sleeve\", \"...</td>\n",
              "      <td>2016</td>\n",
              "      <td>4</td>\n",
              "      <td>Vishudh Printed Women's Anarkali Kurta\"</td>\n",
              "      <td>None</td>\n",
              "      <td>None</td>\n",
              "      <td>None</td>\n",
              "      <td>None</td>\n",
              "      <td>None</td>\n",
              "    </tr>\n",
              "    <tr>\n",
              "      <th>...</th>\n",
              "      <td>...</td>\n",
              "      <td>...</td>\n",
              "      <td>...</td>\n",
              "      <td>...</td>\n",
              "      <td>...</td>\n",
              "      <td>...</td>\n",
              "      <td>...</td>\n",
              "      <td>...</td>\n",
              "      <td>...</td>\n",
              "      <td>...</td>\n",
              "      <td>...</td>\n",
              "      <td>...</td>\n",
              "      <td>...</td>\n",
              "      <td>...</td>\n",
              "      <td>...</td>\n",
              "      <td>...</td>\n",
              "      <td>...</td>\n",
              "      <td>...</td>\n",
              "      <td>...</td>\n",
              "      <td>...</td>\n",
              "      <td>...</td>\n",
              "      <td>...</td>\n",
              "      <td>...</td>\n",
              "    </tr>\n",
              "    <tr>\n",
              "      <th>19421</th>\n",
              "      <td>1097bf3309520a0d6827d6b38efdc8d1</td>\n",
              "      <td>2016-04-12 05:40:04+00:00</td>\n",
              "      <td>http://www.flipkart.com/pazel-slim-fit-men-s-j...</td>\n",
              "      <td>Pazel Slim Fit Men's Jeans</td>\n",
              "      <td>[\"Pazel Slim Fit Men's Jeans\"]</td>\n",
              "      <td>JEAEHG766QCG2Z7S</td>\n",
              "      <td>1249.0</td>\n",
              "      <td>549.0</td>\n",
              "      <td>[\"http://img6a.flixcart.com/image/jean/h/n/k/w...</td>\n",
              "      <td>False</td>\n",
              "      <td>Key Features of Pazel Slim Fit Men's Jeans Col...</td>\n",
              "      <td>No rating available</td>\n",
              "      <td>No rating available</td>\n",
              "      <td>Pazel</td>\n",
              "      <td>{\"product_specification\"=&gt;[{\"key\"=&gt;\"Ideal For\"...</td>\n",
              "      <td>2016</td>\n",
              "      <td>4</td>\n",
              "      <td>Pazel Slim Fit Men's Jeans\"</td>\n",
              "      <td>None</td>\n",
              "      <td>None</td>\n",
              "      <td>None</td>\n",
              "      <td>None</td>\n",
              "      <td>None</td>\n",
              "    </tr>\n",
              "    <tr>\n",
              "      <th>19431</th>\n",
              "      <td>088269cb127fff651043273281793597</td>\n",
              "      <td>2016-05-02 05:11:30+00:00</td>\n",
              "      <td>http://www.flipkart.com/smart-traders-girls-be...</td>\n",
              "      <td>SMART TRADERS Girls Bellies</td>\n",
              "      <td>[\"SMART TRADERS Girls Bellies\"]</td>\n",
              "      <td>SNDEGAHFHSWVDGNZ</td>\n",
              "      <td>1299.0</td>\n",
              "      <td>650.0</td>\n",
              "      <td>[\"http://img6a.flixcart.com/image/sandal/g/n/z...</td>\n",
              "      <td>False</td>\n",
              "      <td>Key Features of SMART TRADERS Girls Bellies Oc...</td>\n",
              "      <td>No rating available</td>\n",
              "      <td>No rating available</td>\n",
              "      <td>SMART TRADERS</td>\n",
              "      <td>{\"product_specification\"=&gt;[{\"key\"=&gt;\"Occasion\",...</td>\n",
              "      <td>2016</td>\n",
              "      <td>5</td>\n",
              "      <td>SMART TRADERS Girls Bellies\"</td>\n",
              "      <td>None</td>\n",
              "      <td>None</td>\n",
              "      <td>None</td>\n",
              "      <td>None</td>\n",
              "      <td>None</td>\n",
              "    </tr>\n",
              "    <tr>\n",
              "      <th>19434</th>\n",
              "      <td>145c6ce4e94c807c0eab09e08569c663</td>\n",
              "      <td>2016-04-18 13:59:52+00:00</td>\n",
              "      <td>http://www.flipkart.com/corcepts-universal-tab...</td>\n",
              "      <td>Corcepts Universal Tablet HD Ultra Clear Trans...</td>\n",
              "      <td>[\"Corcepts Universal Tablet HD Ultra Clear Tra...</td>\n",
              "      <td>ACCEHQJT59UZYR7B</td>\n",
              "      <td>999.0</td>\n",
              "      <td>399.0</td>\n",
              "      <td>[\"http://img5a.flixcart.com/image/screen-guard...</td>\n",
              "      <td>False</td>\n",
              "      <td>Key Features of Corcepts Universal Tablet HD U...</td>\n",
              "      <td>No rating available</td>\n",
              "      <td>No rating available</td>\n",
              "      <td>Corcepts</td>\n",
              "      <td>{\"product_specification\"=&gt;[{\"key\"=&gt;\"Brand\", \"v...</td>\n",
              "      <td>2016</td>\n",
              "      <td>4</td>\n",
              "      <td>Corcepts Universal Tablet HD Ultra Clear Trans...</td>\n",
              "      <td>None</td>\n",
              "      <td>None</td>\n",
              "      <td>None</td>\n",
              "      <td>None</td>\n",
              "      <td>None</td>\n",
              "    </tr>\n",
              "    <tr>\n",
              "      <th>19435</th>\n",
              "      <td>68e8358bb26515ba1e0d8e992984472a</td>\n",
              "      <td>2016-04-18 13:59:52+00:00</td>\n",
              "      <td>http://www.flipkart.com/areon-luxurious-fragra...</td>\n",
              "      <td>Areon Luxurious Fragrance Long Lasting Car,Hom...</td>\n",
              "      <td>[\"Areon Luxurious Fragrance Long Lasting Car,H...</td>\n",
              "      <td>AIREHRXSYBMXKB4X</td>\n",
              "      <td>499.0</td>\n",
              "      <td>269.0</td>\n",
              "      <td>[\"http://img6a.flixcart.com/image/air-freshene...</td>\n",
              "      <td>False</td>\n",
              "      <td>Key Features of Areon Luxurious Fragrance Long...</td>\n",
              "      <td>No rating available</td>\n",
              "      <td>No rating available</td>\n",
              "      <td>Areon</td>\n",
              "      <td>{\"product_specification\"=&gt;[{\"key\"=&gt;\"Brand\", \"v...</td>\n",
              "      <td>2016</td>\n",
              "      <td>4</td>\n",
              "      <td>Areon Luxurious Fragrance Long Lasting Car,Hom...</td>\n",
              "      <td>None</td>\n",
              "      <td>None</td>\n",
              "      <td>None</td>\n",
              "      <td>None</td>\n",
              "      <td>None</td>\n",
              "    </tr>\n",
              "    <tr>\n",
              "      <th>19436</th>\n",
              "      <td>470b1a434693b9a37b31c1d94d73686a</td>\n",
              "      <td>2016-04-18 13:59:52+00:00</td>\n",
              "      <td>http://www.flipkart.com/corcepts-universal-tab...</td>\n",
              "      <td>Corcepts Universal Tablet HD Ultra Clear Trans...</td>\n",
              "      <td>[\"Corcepts Universal Tablet HD Ultra Clear Tra...</td>\n",
              "      <td>ACCEHQJT86WCX9ZA</td>\n",
              "      <td>999.0</td>\n",
              "      <td>399.0</td>\n",
              "      <td>[\"http://img5a.flixcart.com/image/screen-guard...</td>\n",
              "      <td>False</td>\n",
              "      <td>Key Features of Corcepts Universal Tablet HD U...</td>\n",
              "      <td>No rating available</td>\n",
              "      <td>No rating available</td>\n",
              "      <td>Corcepts</td>\n",
              "      <td>{\"product_specification\"=&gt;[{\"key\"=&gt;\"Brand\", \"v...</td>\n",
              "      <td>2016</td>\n",
              "      <td>4</td>\n",
              "      <td>Corcepts Universal Tablet HD Ultra Clear Trans...</td>\n",
              "      <td>None</td>\n",
              "      <td>None</td>\n",
              "      <td>None</td>\n",
              "      <td>None</td>\n",
              "      <td>None</td>\n",
              "    </tr>\n",
              "  </tbody>\n",
              "</table>\n",
              "<p>1457 rows × 23 columns</p>\n",
              "</div>"
            ],
            "text/plain": [
              "                                uniq_id           crawl_timestamp  ... fifth sixth\n",
              "5      c2a17313954882c1dba461863e98adf2 2016-03-25 22:59:23+00:00  ...  None  None\n",
              "30     186d40c6852da91166c7eb7856603c51 2016-05-11 09:26:02+00:00  ...  None  None\n",
              "44     6ef0a5eb033cd610d455be7102da5685 2016-04-05 17:56:58+00:00  ...  None  None\n",
              "45     c9c27aa5dc7df49e82e55e8abb6b4020 2016-04-05 17:56:58+00:00  ...  None  None\n",
              "46     8bc90f8a2ab89daa6ea69d42fe24c985 2016-04-05 17:56:58+00:00  ...  None  None\n",
              "...                                 ...                       ...  ...   ...   ...\n",
              "19421  1097bf3309520a0d6827d6b38efdc8d1 2016-04-12 05:40:04+00:00  ...  None  None\n",
              "19431  088269cb127fff651043273281793597 2016-05-02 05:11:30+00:00  ...  None  None\n",
              "19434  145c6ce4e94c807c0eab09e08569c663 2016-04-18 13:59:52+00:00  ...  None  None\n",
              "19435  68e8358bb26515ba1e0d8e992984472a 2016-04-18 13:59:52+00:00  ...  None  None\n",
              "19436  470b1a434693b9a37b31c1d94d73686a 2016-04-18 13:59:52+00:00  ...  None  None\n",
              "\n",
              "[1457 rows x 23 columns]"
            ]
          },
          "metadata": {
            "tags": []
          },
          "execution_count": 162
        }
      ]
    },
    {
      "cell_type": "markdown",
      "metadata": {
        "id": "EvEspNJi8da-"
      },
      "source": [
        "column \"tertiary\" have 1457 None values."
      ]
    },
    {
      "cell_type": "code",
      "metadata": {
        "colab": {
          "base_uri": "https://localhost:8080/",
          "height": 1000
        },
        "id": "vKNDfAzZ6uQh",
        "outputId": "eae955f1-16fb-46ef-a17e-fed579dda499"
      },
      "source": [
        "# Lists out if the column \"quaternary\" have None values\n",
        "Flipkart_data.loc[Flipkart_data.quaternary == 'None']"
      ],
      "execution_count": 163,
      "outputs": [
        {
          "output_type": "execute_result",
          "data": {
            "text/html": [
              "<div>\n",
              "<style scoped>\n",
              "    .dataframe tbody tr th:only-of-type {\n",
              "        vertical-align: middle;\n",
              "    }\n",
              "\n",
              "    .dataframe tbody tr th {\n",
              "        vertical-align: top;\n",
              "    }\n",
              "\n",
              "    .dataframe thead th {\n",
              "        text-align: right;\n",
              "    }\n",
              "</style>\n",
              "<table border=\"1\" class=\"dataframe\">\n",
              "  <thead>\n",
              "    <tr style=\"text-align: right;\">\n",
              "      <th></th>\n",
              "      <th>uniq_id</th>\n",
              "      <th>crawl_timestamp</th>\n",
              "      <th>product_url</th>\n",
              "      <th>product_name</th>\n",
              "      <th>product_category_tree</th>\n",
              "      <th>pid</th>\n",
              "      <th>retail_price</th>\n",
              "      <th>discounted_price</th>\n",
              "      <th>image</th>\n",
              "      <th>is_FK_Advantage_product</th>\n",
              "      <th>description</th>\n",
              "      <th>product_rating</th>\n",
              "      <th>overall_rating</th>\n",
              "      <th>brand</th>\n",
              "      <th>product_specifications</th>\n",
              "      <th>crawl_year</th>\n",
              "      <th>Month</th>\n",
              "      <th>primary_category</th>\n",
              "      <th>secondary</th>\n",
              "      <th>tertiary</th>\n",
              "      <th>quaternary</th>\n",
              "      <th>fifth</th>\n",
              "      <th>sixth</th>\n",
              "    </tr>\n",
              "  </thead>\n",
              "  <tbody>\n",
              "    <tr>\n",
              "      <th>5</th>\n",
              "      <td>c2a17313954882c1dba461863e98adf2</td>\n",
              "      <td>2016-03-25 22:59:23+00:00</td>\n",
              "      <td>http://www.flipkart.com/eternal-gandhi-super-s...</td>\n",
              "      <td>Eternal Gandhi Super Series Crystal Paper Weig...</td>\n",
              "      <td>[\"Eternal Gandhi Super Series Crystal Paper We...</td>\n",
              "      <td>PWTEB7H2E4KCYUE3</td>\n",
              "      <td>430.0</td>\n",
              "      <td>430.0</td>\n",
              "      <td>[\"http://img5a.flixcart.com/image/paper-weight...</td>\n",
              "      <td>False</td>\n",
              "      <td>Key Features of Eternal Gandhi Super Series Cr...</td>\n",
              "      <td>No rating available</td>\n",
              "      <td>No rating available</td>\n",
              "      <td>Eternal Gandhi</td>\n",
              "      <td>{\"product_specification\"=&gt;[{\"key\"=&gt;\"Model Name...</td>\n",
              "      <td>2016</td>\n",
              "      <td>3</td>\n",
              "      <td>Eternal Gandhi Super Series Crystal Paper Weig...</td>\n",
              "      <td>None</td>\n",
              "      <td>None</td>\n",
              "      <td>None</td>\n",
              "      <td>None</td>\n",
              "      <td>None</td>\n",
              "    </tr>\n",
              "    <tr>\n",
              "      <th>24</th>\n",
              "      <td>20cf08ae845d5fd8f2b8cf52b3b9d840</td>\n",
              "      <td>2016-01-03 20:56:50+00:00</td>\n",
              "      <td>http://www.flipkart.com/kennel-rubber-dumbell-...</td>\n",
              "      <td>Kennel Rubber Dumbell With Bell - Small Rubber...</td>\n",
              "      <td>[\"Pet Supplies &gt;&gt; Toys &gt;&gt; Comfort Toys\"]</td>\n",
              "      <td>PTYEA6SFGD4X8NAR</td>\n",
              "      <td>190.0</td>\n",
              "      <td>190.0</td>\n",
              "      <td>[\"http://img5a.flixcart.com/image/pet-toy/n/a/...</td>\n",
              "      <td>False</td>\n",
              "      <td>Buy Kennel Rubber Dumbell With Bell - Small Ru...</td>\n",
              "      <td>No rating available</td>\n",
              "      <td>No rating available</td>\n",
              "      <td>Kennel</td>\n",
              "      <td>{\"product_specification\"=&gt;[{\"key\"=&gt;\"Pet Type\",...</td>\n",
              "      <td>2016</td>\n",
              "      <td>1</td>\n",
              "      <td>Pet Supplies</td>\n",
              "      <td>Toys</td>\n",
              "      <td>Comfort Toys\"</td>\n",
              "      <td>None</td>\n",
              "      <td>None</td>\n",
              "      <td>None</td>\n",
              "    </tr>\n",
              "    <tr>\n",
              "      <th>30</th>\n",
              "      <td>186d40c6852da91166c7eb7856603c51</td>\n",
              "      <td>2016-05-11 09:26:02+00:00</td>\n",
              "      <td>http://www.flipkart.com/bengal-blooms-rose-art...</td>\n",
              "      <td>Bengal Blooms Rose Artificial Plant  with Pot</td>\n",
              "      <td>[\"Bengal Blooms Rose Artificial Plant  with Po...</td>\n",
              "      <td>ARPEGDHSXZJSHGSN</td>\n",
              "      <td>799.0</td>\n",
              "      <td>579.0</td>\n",
              "      <td>[\"http://img5a.flixcart.com/image/artificial-p...</td>\n",
              "      <td>False</td>\n",
              "      <td>Key Features of Bengal Blooms Rose Artificial ...</td>\n",
              "      <td>No rating available</td>\n",
              "      <td>No rating available</td>\n",
              "      <td>Bengal Blooms</td>\n",
              "      <td>{\"product_specification\"=&gt;[{\"key\"=&gt;\"Brand\", \"v...</td>\n",
              "      <td>2016</td>\n",
              "      <td>5</td>\n",
              "      <td>Bengal Blooms Rose Artificial Plant  with Pot ...</td>\n",
              "      <td>None</td>\n",
              "      <td>None</td>\n",
              "      <td>None</td>\n",
              "      <td>None</td>\n",
              "      <td>None</td>\n",
              "    </tr>\n",
              "    <tr>\n",
              "      <th>44</th>\n",
              "      <td>6ef0a5eb033cd610d455be7102da5685</td>\n",
              "      <td>2016-04-05 17:56:58+00:00</td>\n",
              "      <td>http://www.flipkart.com/vishudh-printed-women-...</td>\n",
              "      <td>Vishudh Printed Women's Straight Kurta</td>\n",
              "      <td>[\"Vishudh Printed Women's Straight Kurta\"]</td>\n",
              "      <td>KTAEHE9HAED4VUQB</td>\n",
              "      <td>999.0</td>\n",
              "      <td>499.0</td>\n",
              "      <td>[\"http://img5a.flixcart.com/image/kurta/d/s/y/...</td>\n",
              "      <td>False</td>\n",
              "      <td>Specifications of Vishudh Printed Women's Stra...</td>\n",
              "      <td>No rating available</td>\n",
              "      <td>No rating available</td>\n",
              "      <td>Vishudh</td>\n",
              "      <td>{\"product_specification\"=&gt;[{\"key\"=&gt;\"Sleeve\", \"...</td>\n",
              "      <td>2016</td>\n",
              "      <td>4</td>\n",
              "      <td>Vishudh Printed Women's Straight Kurta\"</td>\n",
              "      <td>None</td>\n",
              "      <td>None</td>\n",
              "      <td>None</td>\n",
              "      <td>None</td>\n",
              "      <td>None</td>\n",
              "    </tr>\n",
              "    <tr>\n",
              "      <th>45</th>\n",
              "      <td>c9c27aa5dc7df49e82e55e8abb6b4020</td>\n",
              "      <td>2016-04-05 17:56:58+00:00</td>\n",
              "      <td>http://www.flipkart.com/vishudh-printed-women-...</td>\n",
              "      <td>Vishudh Printed Women's Straight Kurta</td>\n",
              "      <td>[\"Vishudh Printed Women's Straight Kurta\"]</td>\n",
              "      <td>KTAEHE9KFCMVVSBN</td>\n",
              "      <td>899.0</td>\n",
              "      <td>449.0</td>\n",
              "      <td>[\"http://img5a.flixcart.com/image/kurta/s/c/g/...</td>\n",
              "      <td>False</td>\n",
              "      <td>Specifications of Vishudh Printed Women's Stra...</td>\n",
              "      <td>No rating available</td>\n",
              "      <td>No rating available</td>\n",
              "      <td>Vishudh</td>\n",
              "      <td>{\"product_specification\"=&gt;[{\"key\"=&gt;\"Sleeve\", \"...</td>\n",
              "      <td>2016</td>\n",
              "      <td>4</td>\n",
              "      <td>Vishudh Printed Women's Straight Kurta\"</td>\n",
              "      <td>None</td>\n",
              "      <td>None</td>\n",
              "      <td>None</td>\n",
              "      <td>None</td>\n",
              "      <td>None</td>\n",
              "    </tr>\n",
              "    <tr>\n",
              "      <th>...</th>\n",
              "      <td>...</td>\n",
              "      <td>...</td>\n",
              "      <td>...</td>\n",
              "      <td>...</td>\n",
              "      <td>...</td>\n",
              "      <td>...</td>\n",
              "      <td>...</td>\n",
              "      <td>...</td>\n",
              "      <td>...</td>\n",
              "      <td>...</td>\n",
              "      <td>...</td>\n",
              "      <td>...</td>\n",
              "      <td>...</td>\n",
              "      <td>...</td>\n",
              "      <td>...</td>\n",
              "      <td>...</td>\n",
              "      <td>...</td>\n",
              "      <td>...</td>\n",
              "      <td>...</td>\n",
              "      <td>...</td>\n",
              "      <td>...</td>\n",
              "      <td>...</td>\n",
              "      <td>...</td>\n",
              "    </tr>\n",
              "    <tr>\n",
              "      <th>19936</th>\n",
              "      <td>33b347833631a5040957c7c4b81f7ad7</td>\n",
              "      <td>2015-12-01 10:15:43+00:00</td>\n",
              "      <td>http://www.flipkart.com/purple-women-heels/p/i...</td>\n",
              "      <td>Purple Women Heels</td>\n",
              "      <td>[\"Footwear &gt;&gt; Women's Footwear &gt;&gt; Heels\"]</td>\n",
              "      <td>SNDEY8UH5TZ2AJCK</td>\n",
              "      <td>1099.0</td>\n",
              "      <td>899.0</td>\n",
              "      <td>[\"http://img6a.flixcart.com/image/sandal/u/9/w...</td>\n",
              "      <td>False</td>\n",
              "      <td>Flipkart.com: Buy Purple Women Heels only for ...</td>\n",
              "      <td>2</td>\n",
              "      <td>2</td>\n",
              "      <td>NaN</td>\n",
              "      <td>{\"product_specification\"=&gt;[{\"key\"=&gt;\"Occasion\",...</td>\n",
              "      <td>2015</td>\n",
              "      <td>12</td>\n",
              "      <td>Footwear</td>\n",
              "      <td>Women's Footwear</td>\n",
              "      <td>Heels\"</td>\n",
              "      <td>None</td>\n",
              "      <td>None</td>\n",
              "      <td>None</td>\n",
              "    </tr>\n",
              "    <tr>\n",
              "      <th>19941</th>\n",
              "      <td>618ee8f01d3d2f74a2d6bb7e3040dfc0</td>\n",
              "      <td>2015-12-01 10:15:43+00:00</td>\n",
              "      <td>http://www.flipkart.com/pinq-chiq-women-heels/...</td>\n",
              "      <td>Pinq Chiq Women Heels</td>\n",
              "      <td>[\"Footwear &gt;&gt; Women's Footwear &gt;&gt; Heels\"]</td>\n",
              "      <td>SNDEYPKYZ47RUKSX</td>\n",
              "      <td>1099.0</td>\n",
              "      <td>769.0</td>\n",
              "      <td>[\"http://img5a.flixcart.com/image/sandal/z/s/q...</td>\n",
              "      <td>False</td>\n",
              "      <td>Flipkart.com: Buy Pinq Chiq Women Heels only f...</td>\n",
              "      <td>No rating available</td>\n",
              "      <td>No rating available</td>\n",
              "      <td>NaN</td>\n",
              "      <td>{\"product_specification\"=&gt;[{\"key\"=&gt;\"Ideal For\"...</td>\n",
              "      <td>2015</td>\n",
              "      <td>12</td>\n",
              "      <td>Footwear</td>\n",
              "      <td>Women's Footwear</td>\n",
              "      <td>Heels\"</td>\n",
              "      <td>None</td>\n",
              "      <td>None</td>\n",
              "      <td>None</td>\n",
              "    </tr>\n",
              "    <tr>\n",
              "      <th>19953</th>\n",
              "      <td>77226646cd475e6e90954820197f8cac</td>\n",
              "      <td>2015-12-01 10:15:43+00:00</td>\n",
              "      <td>http://www.flipkart.com/la-isla-women-heels/p/...</td>\n",
              "      <td>La Isla Women Heels</td>\n",
              "      <td>[\"Footwear &gt;&gt; Women's Footwear &gt;&gt; Heels\"]</td>\n",
              "      <td>SNDEY7QPH3YZFQYW</td>\n",
              "      <td>2599.0</td>\n",
              "      <td>779.0</td>\n",
              "      <td>[\"http://img6a.flixcart.com/image/sandal/w/h/6...</td>\n",
              "      <td>False</td>\n",
              "      <td>Flipkart.com: Buy La Isla Women Heels only for...</td>\n",
              "      <td>No rating available</td>\n",
              "      <td>No rating available</td>\n",
              "      <td>NaN</td>\n",
              "      <td>{\"product_specification\"=&gt;[{\"key\"=&gt;\"Ideal For\"...</td>\n",
              "      <td>2015</td>\n",
              "      <td>12</td>\n",
              "      <td>Footwear</td>\n",
              "      <td>Women's Footwear</td>\n",
              "      <td>Heels\"</td>\n",
              "      <td>None</td>\n",
              "      <td>None</td>\n",
              "      <td>None</td>\n",
              "    </tr>\n",
              "    <tr>\n",
              "      <th>19958</th>\n",
              "      <td>fb1ed40dd636c9eb3f8ccb281a04558d</td>\n",
              "      <td>2015-12-01 10:15:43+00:00</td>\n",
              "      <td>http://www.flipkart.com/witches-comfy-hues-wom...</td>\n",
              "      <td>We Witches Comfy Hues Women Wedges</td>\n",
              "      <td>[\"Footwear &gt;&gt; Women's Footwear &gt;&gt; Wedges\"]</td>\n",
              "      <td>SNDDX969ZZJJKSHB</td>\n",
              "      <td>899.0</td>\n",
              "      <td>899.0</td>\n",
              "      <td>[\"http://img5a.flixcart.com/image/sandal/m/y/z...</td>\n",
              "      <td>False</td>\n",
              "      <td>Flipkart.com: Buy We Witches Comfy Hues Women ...</td>\n",
              "      <td>5</td>\n",
              "      <td>5</td>\n",
              "      <td>NaN</td>\n",
              "      <td>{\"product_specification\"=&gt;[{\"key\"=&gt;\"Occasion\",...</td>\n",
              "      <td>2015</td>\n",
              "      <td>12</td>\n",
              "      <td>Footwear</td>\n",
              "      <td>Women's Footwear</td>\n",
              "      <td>Wedges\"</td>\n",
              "      <td>None</td>\n",
              "      <td>None</td>\n",
              "      <td>None</td>\n",
              "    </tr>\n",
              "    <tr>\n",
              "      <th>19962</th>\n",
              "      <td>725fb81399c181c86be89675429b8d27</td>\n",
              "      <td>2015-12-01 10:15:43+00:00</td>\n",
              "      <td>http://www.flipkart.com/stylistry-women-heels/...</td>\n",
              "      <td>Stylistry Women Heels</td>\n",
              "      <td>[\"Footwear &gt;&gt; Women's Footwear &gt;&gt; Heels\"]</td>\n",
              "      <td>SNDEF3R3VB55PJBX</td>\n",
              "      <td>1799.0</td>\n",
              "      <td>499.0</td>\n",
              "      <td>[\"http://img6a.flixcart.com/image/sandal/z/s/2...</td>\n",
              "      <td>False</td>\n",
              "      <td>Flipkart.com: Buy Stylistry Women Heels only f...</td>\n",
              "      <td>No rating available</td>\n",
              "      <td>No rating available</td>\n",
              "      <td>NaN</td>\n",
              "      <td>{\"product_specification\"=&gt;[{\"key\"=&gt;\"Occasion\",...</td>\n",
              "      <td>2015</td>\n",
              "      <td>12</td>\n",
              "      <td>Footwear</td>\n",
              "      <td>Women's Footwear</td>\n",
              "      <td>Heels\"</td>\n",
              "      <td>None</td>\n",
              "      <td>None</td>\n",
              "      <td>None</td>\n",
              "    </tr>\n",
              "  </tbody>\n",
              "</table>\n",
              "<p>5876 rows × 23 columns</p>\n",
              "</div>"
            ],
            "text/plain": [
              "                                uniq_id           crawl_timestamp  ... fifth sixth\n",
              "5      c2a17313954882c1dba461863e98adf2 2016-03-25 22:59:23+00:00  ...  None  None\n",
              "24     20cf08ae845d5fd8f2b8cf52b3b9d840 2016-01-03 20:56:50+00:00  ...  None  None\n",
              "30     186d40c6852da91166c7eb7856603c51 2016-05-11 09:26:02+00:00  ...  None  None\n",
              "44     6ef0a5eb033cd610d455be7102da5685 2016-04-05 17:56:58+00:00  ...  None  None\n",
              "45     c9c27aa5dc7df49e82e55e8abb6b4020 2016-04-05 17:56:58+00:00  ...  None  None\n",
              "...                                 ...                       ...  ...   ...   ...\n",
              "19936  33b347833631a5040957c7c4b81f7ad7 2015-12-01 10:15:43+00:00  ...  None  None\n",
              "19941  618ee8f01d3d2f74a2d6bb7e3040dfc0 2015-12-01 10:15:43+00:00  ...  None  None\n",
              "19953  77226646cd475e6e90954820197f8cac 2015-12-01 10:15:43+00:00  ...  None  None\n",
              "19958  fb1ed40dd636c9eb3f8ccb281a04558d 2015-12-01 10:15:43+00:00  ...  None  None\n",
              "19962  725fb81399c181c86be89675429b8d27 2015-12-01 10:15:43+00:00  ...  None  None\n",
              "\n",
              "[5876 rows x 23 columns]"
            ]
          },
          "metadata": {
            "tags": []
          },
          "execution_count": 163
        }
      ]
    },
    {
      "cell_type": "markdown",
      "metadata": {
        "id": "4Pjam7P65hYR"
      },
      "source": [
        ">column \"quaternary\" have 5876 None values.\n",
        "\n",
        "\n",
        "\n"
      ]
    },
    {
      "cell_type": "markdown",
      "metadata": {
        "id": "-tFoz5Jk86F8"
      },
      "source": [
        " >**Now if we consider columns \"seccondary\",\"tertiary\",\"quanternary\" , we may loss many rows.**\n",
        "\n",
        ">**so considering \"primary_category\" as category for prediction will be ideal selection which will not have any data loss**"
      ]
    },
    {
      "cell_type": "code",
      "metadata": {
        "colab": {
          "base_uri": "https://localhost:8080/",
          "height": 402
        },
        "id": "MwhGcf45OVuL",
        "outputId": "bd5aa58a-46a9-4c18-b6e6-493bfcef6972"
      },
      "source": [
        "Flipkart_data.loc[:, ['description', 'product_category_tree', 'primary_category']]"
      ],
      "execution_count": 164,
      "outputs": [
        {
          "output_type": "execute_result",
          "data": {
            "text/html": [
              "<div>\n",
              "<style scoped>\n",
              "    .dataframe tbody tr th:only-of-type {\n",
              "        vertical-align: middle;\n",
              "    }\n",
              "\n",
              "    .dataframe tbody tr th {\n",
              "        vertical-align: top;\n",
              "    }\n",
              "\n",
              "    .dataframe thead th {\n",
              "        text-align: right;\n",
              "    }\n",
              "</style>\n",
              "<table border=\"1\" class=\"dataframe\">\n",
              "  <thead>\n",
              "    <tr style=\"text-align: right;\">\n",
              "      <th></th>\n",
              "      <th>description</th>\n",
              "      <th>product_category_tree</th>\n",
              "      <th>primary_category</th>\n",
              "    </tr>\n",
              "  </thead>\n",
              "  <tbody>\n",
              "    <tr>\n",
              "      <th>0</th>\n",
              "      <td>Key Features of Alisha Solid Women's Cycling S...</td>\n",
              "      <td>[\"Clothing &gt;&gt; Women's Clothing &gt;&gt; Lingerie, Sl...</td>\n",
              "      <td>Clothing</td>\n",
              "    </tr>\n",
              "    <tr>\n",
              "      <th>1</th>\n",
              "      <td>FabHomeDecor Fabric Double Sofa Bed (Finish Co...</td>\n",
              "      <td>[\"Furniture &gt;&gt; Living Room Furniture &gt;&gt; Sofa B...</td>\n",
              "      <td>Furniture</td>\n",
              "    </tr>\n",
              "    <tr>\n",
              "      <th>2</th>\n",
              "      <td>Key Features of AW Bellies Sandals Wedges Heel...</td>\n",
              "      <td>[\"Footwear &gt;&gt; Women's Footwear &gt;&gt; Ballerinas &gt;...</td>\n",
              "      <td>Footwear</td>\n",
              "    </tr>\n",
              "    <tr>\n",
              "      <th>3</th>\n",
              "      <td>Key Features of Alisha Solid Women's Cycling S...</td>\n",
              "      <td>[\"Clothing &gt;&gt; Women's Clothing &gt;&gt; Lingerie, Sl...</td>\n",
              "      <td>Clothing</td>\n",
              "    </tr>\n",
              "    <tr>\n",
              "      <th>4</th>\n",
              "      <td>Specifications of Sicons All Purpose Arnica Do...</td>\n",
              "      <td>[\"Pet Supplies &gt;&gt; Grooming &gt;&gt; Skin &amp; Coat Care...</td>\n",
              "      <td>Pet Supplies</td>\n",
              "    </tr>\n",
              "    <tr>\n",
              "      <th>...</th>\n",
              "      <td>...</td>\n",
              "      <td>...</td>\n",
              "      <td>...</td>\n",
              "    </tr>\n",
              "    <tr>\n",
              "      <th>19995</th>\n",
              "      <td>Buy WallDesign Small Vinyl Sticker for Rs.730 ...</td>\n",
              "      <td>[\"Baby Care &gt;&gt; Baby &amp; Kids Gifts &gt;&gt; Stickers &gt;...</td>\n",
              "      <td>Baby Care</td>\n",
              "    </tr>\n",
              "    <tr>\n",
              "      <th>19996</th>\n",
              "      <td>Buy Wallmantra Large Vinyl Stickers Sticker fo...</td>\n",
              "      <td>[\"Baby Care &gt;&gt; Baby &amp; Kids Gifts &gt;&gt; Stickers &gt;...</td>\n",
              "      <td>Baby Care</td>\n",
              "    </tr>\n",
              "    <tr>\n",
              "      <th>19997</th>\n",
              "      <td>Buy Elite Collection Medium Acrylic Sticker fo...</td>\n",
              "      <td>[\"Baby Care &gt;&gt; Baby &amp; Kids Gifts &gt;&gt; Stickers &gt;...</td>\n",
              "      <td>Baby Care</td>\n",
              "    </tr>\n",
              "    <tr>\n",
              "      <th>19998</th>\n",
              "      <td>Buy Elite Collection Medium Acrylic Sticker fo...</td>\n",
              "      <td>[\"Baby Care &gt;&gt; Baby &amp; Kids Gifts &gt;&gt; Stickers &gt;...</td>\n",
              "      <td>Baby Care</td>\n",
              "    </tr>\n",
              "    <tr>\n",
              "      <th>19999</th>\n",
              "      <td>Buy Elite Collection Medium Acrylic Sticker fo...</td>\n",
              "      <td>[\"Baby Care &gt;&gt; Baby &amp; Kids Gifts &gt;&gt; Stickers &gt;...</td>\n",
              "      <td>Baby Care</td>\n",
              "    </tr>\n",
              "  </tbody>\n",
              "</table>\n",
              "<p>20000 rows × 3 columns</p>\n",
              "</div>"
            ],
            "text/plain": [
              "                                             description  ... primary_category\n",
              "0      Key Features of Alisha Solid Women's Cycling S...  ...         Clothing\n",
              "1      FabHomeDecor Fabric Double Sofa Bed (Finish Co...  ...        Furniture\n",
              "2      Key Features of AW Bellies Sandals Wedges Heel...  ...         Footwear\n",
              "3      Key Features of Alisha Solid Women's Cycling S...  ...         Clothing\n",
              "4      Specifications of Sicons All Purpose Arnica Do...  ...     Pet Supplies\n",
              "...                                                  ...  ...              ...\n",
              "19995  Buy WallDesign Small Vinyl Sticker for Rs.730 ...  ...        Baby Care\n",
              "19996  Buy Wallmantra Large Vinyl Stickers Sticker fo...  ...        Baby Care\n",
              "19997  Buy Elite Collection Medium Acrylic Sticker fo...  ...        Baby Care\n",
              "19998  Buy Elite Collection Medium Acrylic Sticker fo...  ...        Baby Care\n",
              "19999  Buy Elite Collection Medium Acrylic Sticker fo...  ...        Baby Care\n",
              "\n",
              "[20000 rows x 3 columns]"
            ]
          },
          "metadata": {
            "tags": []
          },
          "execution_count": 164
        }
      ]
    },
    {
      "cell_type": "markdown",
      "metadata": {
        "id": "EvgbY45bH_3X"
      },
      "source": [
        ">Assigning columns 'description', 'product_category_tree','primary_category' to a new dataframe because we predict using category considering description as main feature. So all other columns can be omited."
      ]
    },
    {
      "cell_type": "code",
      "metadata": {
        "id": "4b1MghEi3ut1"
      },
      "source": [
        "df = Flipkart_data[['description', 'product_category_tree','primary_category']]"
      ],
      "execution_count": 165,
      "outputs": []
    },
    {
      "cell_type": "code",
      "metadata": {
        "id": "vlaiYB9EJAUR"
      },
      "source": [
        "# saving this dataframe as flipkart_com-ecommerce_cleaned_sample.csv for further model\n",
        "df.to_csv(\"/content/gdrive/MyDrive/flipkart_com-ecommerce_cleaned_sample.csv\")\n"
      ],
      "execution_count": 166,
      "outputs": []
    },
    {
      "cell_type": "code",
      "metadata": {
        "id": "arTLCDty-Saw"
      },
      "source": [
        ""
      ],
      "execution_count": null,
      "outputs": []
    }
  ]
}